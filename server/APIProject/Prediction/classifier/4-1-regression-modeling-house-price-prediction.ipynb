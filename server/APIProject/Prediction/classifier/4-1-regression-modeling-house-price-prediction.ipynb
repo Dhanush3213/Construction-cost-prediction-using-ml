{
 "cells": [
  {
   "cell_type": "markdown",
   "id": "00c5366c",
   "metadata": {
    "papermill": {
     "duration": 0.021879,
     "end_time": "2023-02-12T05:00:38.443304",
     "exception": false,
     "start_time": "2023-02-12T05:00:38.421425",
     "status": "completed"
    },
    "tags": []
   },
   "source": [
    "#### Multiple Linear Regression model to predict house prices in Bangalore city in India.\n",
    "\n",
    "About the File :\n",
    "The problem that we are going to solve here is that given a set of features that describe a house in Hyderabad (India). \n",
    "We will be creating a Machine learning model to predict House Price using Linear Regression and other model regularisation techniques like Lasso and Ridge regression. We also use column Transformers to work with heterogeneous data of the dataset that require different pre-processing techniques (for numeric and categorical features). \n",
    "\n",
    "We will be using the Bangaluru House Price data from Kaggle https://www.kaggle.com/datasets/amitabhajoy/bengaluru-house-price-data"
   ]
  },
  {
   "cell_type": "code",
   "execution_count": 1,
   "id": "313b79dd",
   "metadata": {
    "execution": {
     "iopub.execute_input": "2023-02-12T05:00:38.487841Z",
     "iopub.status.busy": "2023-02-12T05:00:38.487221Z",
     "iopub.status.idle": "2023-02-12T05:00:40.264383Z",
     "shell.execute_reply": "2023-02-12T05:00:40.262775Z"
    },
    "papermill": {
     "duration": 1.804128,
     "end_time": "2023-02-12T05:00:40.268066",
     "exception": false,
     "start_time": "2023-02-12T05:00:38.463938",
     "status": "completed"
    },
    "tags": []
   },
   "outputs": [],
   "source": [
    "import numpy as np   \n",
    "import pandas as pd    \n",
    "import seaborn as sns\n",
    "import matplotlib.pyplot as plt   \n",
    "import matplotlib.style\n",
    "from sklearn.model_selection import train_test_split\n",
    "\n",
    "import warnings\n",
    "warnings.filterwarnings(\"ignore\")\n",
    "\n",
    "#LINEAR REGRESSION specific Imports\n",
    "from sklearn.linear_model import LinearRegression, Ridge, Lasso\n",
    "from sklearn import metrics\n",
    "from sklearn.metrics import r2_score\n",
    "from sklearn.preprocessing import OneHotEncoder, StandardScaler\n",
    "from sklearn.compose import make_column_transformer\n",
    "from sklearn.pipeline import make_pipeline"
   ]
  },
  {
   "cell_type": "markdown",
   "id": "0633ccf2",
   "metadata": {
    "papermill": {
     "duration": 0.021465,
     "end_time": "2023-02-12T05:00:40.309942",
     "exception": false,
     "start_time": "2023-02-12T05:00:40.288477",
     "status": "completed"
    },
    "tags": []
   },
   "source": [
    "### APPROACH\n",
    "\n",
    "[READ DATA](#Read-Data) \n",
    "\n",
    "[DATA PRE-PROCESSING](#DATA-PRE-PROCESSING)  \n",
    "Remove_ID & dups + impute_nulls  \n",
    "Num/Cat_cols creation  \n",
    "Convert_dType: Object to category(Nominal or Ordinal or Boolian)  \n",
    "Unique vals for cat_vars (obj dtype)  \n",
    "Dummy/Encoding for cat dType)  \n",
    "\n",
    "[EDA](#EDA)  \n",
    "Correlation-Heat_Map (identify high Corr.b/w vars)  \n",
    "Box-plot (Outlier treatment)  \n",
    "Pair plot(Check Normal distr. of Y -transform if not ND)  \n",
    "\n",
    "[MODELING](#MODELING)  \n",
    "> TEST TRAIN SPLIT  \n",
    "Predictors in X and Response in y dataframe  \n",
    "Data split (X_train, X_test, y_train, y_test)\n",
    "\n",
    "> MODEL FITTING  \n",
    "Model Invoking  \n",
    "Model Fitting  \n",
    "Using Column transformers for transforming features\n",
    "\n",
    "[Applying Linear Regression](#Applying-Linear-Regression)  \n",
    "  \n",
    "  \n",
    "MODEL REGULARISATION  \n",
    "  \n",
    "  \n",
    "[Applying Lasso regression](#Applying-Lasso-regression)  \n",
    "\n",
    "[Applying Ridge regression](#Applying-Ridge-regression)\n",
    "\n",
    "> MODEL ANALYSIS by Calculating R-square"
   ]
  },
  {
   "cell_type": "markdown",
   "id": "d6d8fe5a",
   "metadata": {
    "papermill": {
     "duration": 0.020156,
     "end_time": "2023-02-12T05:00:40.352144",
     "exception": false,
     "start_time": "2023-02-12T05:00:40.331988",
     "status": "completed"
    },
    "tags": []
   },
   "source": [
    "### Read Data"
   ]
  },
  {
   "cell_type": "code",
   "execution_count": 2,
   "id": "4fe1283b",
   "metadata": {
    "execution": {
     "iopub.execute_input": "2023-02-12T05:00:40.396372Z",
     "iopub.status.busy": "2023-02-12T05:00:40.395376Z",
     "iopub.status.idle": "2023-02-12T05:00:40.467594Z",
     "shell.execute_reply": "2023-02-12T05:00:40.465240Z"
    },
    "papermill": {
     "duration": 0.097699,
     "end_time": "2023-02-12T05:00:40.470920",
     "exception": false,
     "start_time": "2023-02-12T05:00:40.373221",
     "status": "completed"
    },
    "tags": []
   },
   "outputs": [],
   "source": [
    "# reading the CSV file into pandas dataframe\n",
    "df = pd.read_csv('/kaggle/input/bengaluru-house-price-data/Bengaluru_House_Data.csv')"
   ]
  },
  {
   "cell_type": "code",
   "execution_count": 3,
   "id": "e1bbe4f4",
   "metadata": {
    "execution": {
     "iopub.execute_input": "2023-02-12T05:00:40.513986Z",
     "iopub.status.busy": "2023-02-12T05:00:40.513455Z",
     "iopub.status.idle": "2023-02-12T05:00:40.548133Z",
     "shell.execute_reply": "2023-02-12T05:00:40.545994Z"
    },
    "papermill": {
     "duration": 0.060373,
     "end_time": "2023-02-12T05:00:40.551696",
     "exception": false,
     "start_time": "2023-02-12T05:00:40.491323",
     "status": "completed"
    },
    "scrolled": true,
    "tags": []
   },
   "outputs": [
    {
     "data": {
      "text/html": [
       "<div>\n",
       "<style scoped>\n",
       "    .dataframe tbody tr th:only-of-type {\n",
       "        vertical-align: middle;\n",
       "    }\n",
       "\n",
       "    .dataframe tbody tr th {\n",
       "        vertical-align: top;\n",
       "    }\n",
       "\n",
       "    .dataframe thead th {\n",
       "        text-align: right;\n",
       "    }\n",
       "</style>\n",
       "<table border=\"1\" class=\"dataframe\">\n",
       "  <thead>\n",
       "    <tr style=\"text-align: right;\">\n",
       "      <th></th>\n",
       "      <th>area_type</th>\n",
       "      <th>availability</th>\n",
       "      <th>location</th>\n",
       "      <th>size</th>\n",
       "      <th>society</th>\n",
       "      <th>total_sqft</th>\n",
       "      <th>bath</th>\n",
       "      <th>balcony</th>\n",
       "      <th>price</th>\n",
       "    </tr>\n",
       "  </thead>\n",
       "  <tbody>\n",
       "    <tr>\n",
       "      <th>0</th>\n",
       "      <td>Super built-up  Area</td>\n",
       "      <td>19-Dec</td>\n",
       "      <td>Electronic City Phase II</td>\n",
       "      <td>2 BHK</td>\n",
       "      <td>Coomee</td>\n",
       "      <td>1056</td>\n",
       "      <td>2.0</td>\n",
       "      <td>1.0</td>\n",
       "      <td>39.07</td>\n",
       "    </tr>\n",
       "    <tr>\n",
       "      <th>1</th>\n",
       "      <td>Plot  Area</td>\n",
       "      <td>Ready To Move</td>\n",
       "      <td>Chikka Tirupathi</td>\n",
       "      <td>4 Bedroom</td>\n",
       "      <td>Theanmp</td>\n",
       "      <td>2600</td>\n",
       "      <td>5.0</td>\n",
       "      <td>3.0</td>\n",
       "      <td>120.00</td>\n",
       "    </tr>\n",
       "    <tr>\n",
       "      <th>2</th>\n",
       "      <td>Built-up  Area</td>\n",
       "      <td>Ready To Move</td>\n",
       "      <td>Uttarahalli</td>\n",
       "      <td>3 BHK</td>\n",
       "      <td>NaN</td>\n",
       "      <td>1440</td>\n",
       "      <td>2.0</td>\n",
       "      <td>3.0</td>\n",
       "      <td>62.00</td>\n",
       "    </tr>\n",
       "    <tr>\n",
       "      <th>3</th>\n",
       "      <td>Super built-up  Area</td>\n",
       "      <td>Ready To Move</td>\n",
       "      <td>Lingadheeranahalli</td>\n",
       "      <td>3 BHK</td>\n",
       "      <td>Soiewre</td>\n",
       "      <td>1521</td>\n",
       "      <td>3.0</td>\n",
       "      <td>1.0</td>\n",
       "      <td>95.00</td>\n",
       "    </tr>\n",
       "    <tr>\n",
       "      <th>4</th>\n",
       "      <td>Super built-up  Area</td>\n",
       "      <td>Ready To Move</td>\n",
       "      <td>Kothanur</td>\n",
       "      <td>2 BHK</td>\n",
       "      <td>NaN</td>\n",
       "      <td>1200</td>\n",
       "      <td>2.0</td>\n",
       "      <td>1.0</td>\n",
       "      <td>51.00</td>\n",
       "    </tr>\n",
       "  </tbody>\n",
       "</table>\n",
       "</div>"
      ],
      "text/plain": [
       "              area_type   availability                  location       size  \\\n",
       "0  Super built-up  Area         19-Dec  Electronic City Phase II      2 BHK   \n",
       "1            Plot  Area  Ready To Move          Chikka Tirupathi  4 Bedroom   \n",
       "2        Built-up  Area  Ready To Move               Uttarahalli      3 BHK   \n",
       "3  Super built-up  Area  Ready To Move        Lingadheeranahalli      3 BHK   \n",
       "4  Super built-up  Area  Ready To Move                  Kothanur      2 BHK   \n",
       "\n",
       "   society total_sqft  bath  balcony   price  \n",
       "0  Coomee        1056   2.0      1.0   39.07  \n",
       "1  Theanmp       2600   5.0      3.0  120.00  \n",
       "2      NaN       1440   2.0      3.0   62.00  \n",
       "3  Soiewre       1521   3.0      1.0   95.00  \n",
       "4      NaN       1200   2.0      1.0   51.00  "
      ]
     },
     "execution_count": 3,
     "metadata": {},
     "output_type": "execute_result"
    }
   ],
   "source": [
    "df.head(5)"
   ]
  },
  {
   "cell_type": "code",
   "execution_count": 4,
   "id": "e9176a3f",
   "metadata": {
    "execution": {
     "iopub.execute_input": "2023-02-12T05:00:40.599452Z",
     "iopub.status.busy": "2023-02-12T05:00:40.598315Z",
     "iopub.status.idle": "2023-02-12T05:00:40.638828Z",
     "shell.execute_reply": "2023-02-12T05:00:40.636562Z"
    },
    "papermill": {
     "duration": 0.068095,
     "end_time": "2023-02-12T05:00:40.642230",
     "exception": false,
     "start_time": "2023-02-12T05:00:40.574135",
     "status": "completed"
    },
    "tags": []
   },
   "outputs": [
    {
     "name": "stdout",
     "output_type": "stream",
     "text": [
      "<class 'pandas.core.frame.DataFrame'>\n",
      "RangeIndex: 13320 entries, 0 to 13319\n",
      "Data columns (total 9 columns):\n",
      " #   Column        Non-Null Count  Dtype  \n",
      "---  ------        --------------  -----  \n",
      " 0   area_type     13320 non-null  object \n",
      " 1   availability  13320 non-null  object \n",
      " 2   location      13319 non-null  object \n",
      " 3   size          13304 non-null  object \n",
      " 4   society       7818 non-null   object \n",
      " 5   total_sqft    13320 non-null  object \n",
      " 6   bath          13247 non-null  float64\n",
      " 7   balcony       12711 non-null  float64\n",
      " 8   price         13320 non-null  float64\n",
      "dtypes: float64(3), object(6)\n",
      "memory usage: 936.7+ KB\n"
     ]
    }
   ],
   "source": [
    "df.info()"
   ]
  },
  {
   "cell_type": "code",
   "execution_count": 5,
   "id": "6e99a60d",
   "metadata": {
    "execution": {
     "iopub.execute_input": "2023-02-12T05:00:40.687719Z",
     "iopub.status.busy": "2023-02-12T05:00:40.687182Z",
     "iopub.status.idle": "2023-02-12T05:00:40.745479Z",
     "shell.execute_reply": "2023-02-12T05:00:40.743726Z"
    },
    "papermill": {
     "duration": 0.085514,
     "end_time": "2023-02-12T05:00:40.749210",
     "exception": false,
     "start_time": "2023-02-12T05:00:40.663696",
     "status": "completed"
    },
    "tags": []
   },
   "outputs": [
    {
     "data": {
      "text/html": [
       "<div>\n",
       "<style scoped>\n",
       "    .dataframe tbody tr th:only-of-type {\n",
       "        vertical-align: middle;\n",
       "    }\n",
       "\n",
       "    .dataframe tbody tr th {\n",
       "        vertical-align: top;\n",
       "    }\n",
       "\n",
       "    .dataframe thead th {\n",
       "        text-align: right;\n",
       "    }\n",
       "</style>\n",
       "<table border=\"1\" class=\"dataframe\">\n",
       "  <thead>\n",
       "    <tr style=\"text-align: right;\">\n",
       "      <th></th>\n",
       "      <th>count</th>\n",
       "      <th>unique</th>\n",
       "      <th>top</th>\n",
       "      <th>freq</th>\n",
       "      <th>mean</th>\n",
       "      <th>std</th>\n",
       "      <th>min</th>\n",
       "      <th>25%</th>\n",
       "      <th>50%</th>\n",
       "      <th>75%</th>\n",
       "      <th>max</th>\n",
       "    </tr>\n",
       "  </thead>\n",
       "  <tbody>\n",
       "    <tr>\n",
       "      <th>area_type</th>\n",
       "      <td>13320</td>\n",
       "      <td>4</td>\n",
       "      <td>Super built-up  Area</td>\n",
       "      <td>8790</td>\n",
       "      <td>NaN</td>\n",
       "      <td>NaN</td>\n",
       "      <td>NaN</td>\n",
       "      <td>NaN</td>\n",
       "      <td>NaN</td>\n",
       "      <td>NaN</td>\n",
       "      <td>NaN</td>\n",
       "    </tr>\n",
       "    <tr>\n",
       "      <th>availability</th>\n",
       "      <td>13320</td>\n",
       "      <td>81</td>\n",
       "      <td>Ready To Move</td>\n",
       "      <td>10581</td>\n",
       "      <td>NaN</td>\n",
       "      <td>NaN</td>\n",
       "      <td>NaN</td>\n",
       "      <td>NaN</td>\n",
       "      <td>NaN</td>\n",
       "      <td>NaN</td>\n",
       "      <td>NaN</td>\n",
       "    </tr>\n",
       "    <tr>\n",
       "      <th>location</th>\n",
       "      <td>13319</td>\n",
       "      <td>1305</td>\n",
       "      <td>Whitefield</td>\n",
       "      <td>540</td>\n",
       "      <td>NaN</td>\n",
       "      <td>NaN</td>\n",
       "      <td>NaN</td>\n",
       "      <td>NaN</td>\n",
       "      <td>NaN</td>\n",
       "      <td>NaN</td>\n",
       "      <td>NaN</td>\n",
       "    </tr>\n",
       "    <tr>\n",
       "      <th>size</th>\n",
       "      <td>13304</td>\n",
       "      <td>31</td>\n",
       "      <td>2 BHK</td>\n",
       "      <td>5199</td>\n",
       "      <td>NaN</td>\n",
       "      <td>NaN</td>\n",
       "      <td>NaN</td>\n",
       "      <td>NaN</td>\n",
       "      <td>NaN</td>\n",
       "      <td>NaN</td>\n",
       "      <td>NaN</td>\n",
       "    </tr>\n",
       "    <tr>\n",
       "      <th>society</th>\n",
       "      <td>7818</td>\n",
       "      <td>2688</td>\n",
       "      <td>GrrvaGr</td>\n",
       "      <td>80</td>\n",
       "      <td>NaN</td>\n",
       "      <td>NaN</td>\n",
       "      <td>NaN</td>\n",
       "      <td>NaN</td>\n",
       "      <td>NaN</td>\n",
       "      <td>NaN</td>\n",
       "      <td>NaN</td>\n",
       "    </tr>\n",
       "    <tr>\n",
       "      <th>total_sqft</th>\n",
       "      <td>13320</td>\n",
       "      <td>2117</td>\n",
       "      <td>1200</td>\n",
       "      <td>843</td>\n",
       "      <td>NaN</td>\n",
       "      <td>NaN</td>\n",
       "      <td>NaN</td>\n",
       "      <td>NaN</td>\n",
       "      <td>NaN</td>\n",
       "      <td>NaN</td>\n",
       "      <td>NaN</td>\n",
       "    </tr>\n",
       "    <tr>\n",
       "      <th>bath</th>\n",
       "      <td>13247.0</td>\n",
       "      <td>NaN</td>\n",
       "      <td>NaN</td>\n",
       "      <td>NaN</td>\n",
       "      <td>2.69261</td>\n",
       "      <td>1.341458</td>\n",
       "      <td>1.0</td>\n",
       "      <td>2.0</td>\n",
       "      <td>2.0</td>\n",
       "      <td>3.0</td>\n",
       "      <td>40.0</td>\n",
       "    </tr>\n",
       "    <tr>\n",
       "      <th>balcony</th>\n",
       "      <td>12711.0</td>\n",
       "      <td>NaN</td>\n",
       "      <td>NaN</td>\n",
       "      <td>NaN</td>\n",
       "      <td>1.584376</td>\n",
       "      <td>0.817263</td>\n",
       "      <td>0.0</td>\n",
       "      <td>1.0</td>\n",
       "      <td>2.0</td>\n",
       "      <td>2.0</td>\n",
       "      <td>3.0</td>\n",
       "    </tr>\n",
       "    <tr>\n",
       "      <th>price</th>\n",
       "      <td>13320.0</td>\n",
       "      <td>NaN</td>\n",
       "      <td>NaN</td>\n",
       "      <td>NaN</td>\n",
       "      <td>112.565627</td>\n",
       "      <td>148.971674</td>\n",
       "      <td>8.0</td>\n",
       "      <td>50.0</td>\n",
       "      <td>72.0</td>\n",
       "      <td>120.0</td>\n",
       "      <td>3600.0</td>\n",
       "    </tr>\n",
       "  </tbody>\n",
       "</table>\n",
       "</div>"
      ],
      "text/plain": [
       "                count unique                   top   freq        mean  \\\n",
       "area_type       13320      4  Super built-up  Area   8790         NaN   \n",
       "availability    13320     81         Ready To Move  10581         NaN   \n",
       "location        13319   1305            Whitefield    540         NaN   \n",
       "size            13304     31                 2 BHK   5199         NaN   \n",
       "society          7818   2688               GrrvaGr     80         NaN   \n",
       "total_sqft      13320   2117                  1200    843         NaN   \n",
       "bath          13247.0    NaN                   NaN    NaN     2.69261   \n",
       "balcony       12711.0    NaN                   NaN    NaN    1.584376   \n",
       "price         13320.0    NaN                   NaN    NaN  112.565627   \n",
       "\n",
       "                     std  min   25%   50%    75%     max  \n",
       "area_type            NaN  NaN   NaN   NaN    NaN     NaN  \n",
       "availability         NaN  NaN   NaN   NaN    NaN     NaN  \n",
       "location             NaN  NaN   NaN   NaN    NaN     NaN  \n",
       "size                 NaN  NaN   NaN   NaN    NaN     NaN  \n",
       "society              NaN  NaN   NaN   NaN    NaN     NaN  \n",
       "total_sqft           NaN  NaN   NaN   NaN    NaN     NaN  \n",
       "bath            1.341458  1.0   2.0   2.0    3.0    40.0  \n",
       "balcony         0.817263  0.0   1.0   2.0    2.0     3.0  \n",
       "price         148.971674  8.0  50.0  72.0  120.0  3600.0  "
      ]
     },
     "execution_count": 5,
     "metadata": {},
     "output_type": "execute_result"
    }
   ],
   "source": [
    "df.describe(include='all').T"
   ]
  },
  {
   "cell_type": "markdown",
   "id": "d8252a47",
   "metadata": {
    "papermill": {
     "duration": 0.021477,
     "end_time": "2023-02-12T05:00:40.791484",
     "exception": false,
     "start_time": "2023-02-12T05:00:40.770007",
     "status": "completed"
    },
    "tags": []
   },
   "source": [
    "### DATA PRE-PROCESSING"
   ]
  },
  {
   "cell_type": "code",
   "execution_count": 6,
   "id": "6b43b47e",
   "metadata": {
    "execution": {
     "iopub.execute_input": "2023-02-12T05:00:40.841468Z",
     "iopub.status.busy": "2023-02-12T05:00:40.840253Z",
     "iopub.status.idle": "2023-02-12T05:00:40.864350Z",
     "shell.execute_reply": "2023-02-12T05:00:40.863243Z"
    },
    "papermill": {
     "duration": 0.052488,
     "end_time": "2023-02-12T05:00:40.867538",
     "exception": false,
     "start_time": "2023-02-12T05:00:40.815050",
     "status": "completed"
    },
    "tags": []
   },
   "outputs": [
    {
     "data": {
      "text/plain": [
       "529"
      ]
     },
     "execution_count": 6,
     "metadata": {},
     "output_type": "execute_result"
    }
   ],
   "source": [
    "# Finding duplicates\n",
    "df.duplicated().sum()"
   ]
  },
  {
   "cell_type": "code",
   "execution_count": 7,
   "id": "4948de72",
   "metadata": {
    "execution": {
     "iopub.execute_input": "2023-02-12T05:00:40.915858Z",
     "iopub.status.busy": "2023-02-12T05:00:40.915347Z",
     "iopub.status.idle": "2023-02-12T05:00:40.939161Z",
     "shell.execute_reply": "2023-02-12T05:00:40.937768Z"
    },
    "papermill": {
     "duration": 0.052961,
     "end_time": "2023-02-12T05:00:40.942217",
     "exception": false,
     "start_time": "2023-02-12T05:00:40.889256",
     "status": "completed"
    },
    "tags": []
   },
   "outputs": [
    {
     "name": "stdout",
     "output_type": "stream",
     "text": [
      "Before (13320, 9)\n",
      "After (12791, 9)\n"
     ]
    }
   ],
   "source": [
    "print('Before',df.shape)\n",
    "df.drop_duplicates(inplace=True) \n",
    "print('After',df.shape)"
   ]
  },
  {
   "cell_type": "code",
   "execution_count": 8,
   "id": "f9749636",
   "metadata": {
    "execution": {
     "iopub.execute_input": "2023-02-12T05:00:40.992187Z",
     "iopub.status.busy": "2023-02-12T05:00:40.991334Z",
     "iopub.status.idle": "2023-02-12T05:00:41.000289Z",
     "shell.execute_reply": "2023-02-12T05:00:40.998994Z"
    },
    "papermill": {
     "duration": 0.037886,
     "end_time": "2023-02-12T05:00:41.004640",
     "exception": false,
     "start_time": "2023-02-12T05:00:40.966754",
     "status": "completed"
    },
    "tags": []
   },
   "outputs": [],
   "source": [
    "# Creating Lists of columns for numeric and categorical types\n",
    "num_cols = [col for col in df if df.dtypes[col] != 'object']\n",
    "cat_cols = [col for col in df if df.dtypes[col] == 'object']"
   ]
  },
  {
   "cell_type": "code",
   "execution_count": 9,
   "id": "3f53112d",
   "metadata": {
    "execution": {
     "iopub.execute_input": "2023-02-12T05:00:41.050923Z",
     "iopub.status.busy": "2023-02-12T05:00:41.050374Z",
     "iopub.status.idle": "2023-02-12T05:00:41.071240Z",
     "shell.execute_reply": "2023-02-12T05:00:41.069755Z"
    },
    "papermill": {
     "duration": 0.04779,
     "end_time": "2023-02-12T05:00:41.074516",
     "exception": false,
     "start_time": "2023-02-12T05:00:41.026726",
     "status": "completed"
    },
    "tags": []
   },
   "outputs": [
    {
     "data": {
      "text/html": [
       "<div>\n",
       "<style scoped>\n",
       "    .dataframe tbody tr th:only-of-type {\n",
       "        vertical-align: middle;\n",
       "    }\n",
       "\n",
       "    .dataframe tbody tr th {\n",
       "        vertical-align: top;\n",
       "    }\n",
       "\n",
       "    .dataframe thead th {\n",
       "        text-align: right;\n",
       "    }\n",
       "</style>\n",
       "<table border=\"1\" class=\"dataframe\">\n",
       "  <thead>\n",
       "    <tr style=\"text-align: right;\">\n",
       "      <th></th>\n",
       "      <th>area_type</th>\n",
       "      <th>availability</th>\n",
       "      <th>location</th>\n",
       "      <th>size</th>\n",
       "      <th>society</th>\n",
       "      <th>total_sqft</th>\n",
       "      <th>bath</th>\n",
       "      <th>balcony</th>\n",
       "      <th>price</th>\n",
       "    </tr>\n",
       "  </thead>\n",
       "  <tbody>\n",
       "    <tr>\n",
       "      <th>0</th>\n",
       "      <td>Super built-up  Area</td>\n",
       "      <td>19-Dec</td>\n",
       "      <td>Electronic City Phase II</td>\n",
       "      <td>2 BHK</td>\n",
       "      <td>Coomee</td>\n",
       "      <td>1056</td>\n",
       "      <td>2.0</td>\n",
       "      <td>1.0</td>\n",
       "      <td>39.07</td>\n",
       "    </tr>\n",
       "    <tr>\n",
       "      <th>1</th>\n",
       "      <td>Plot  Area</td>\n",
       "      <td>Ready To Move</td>\n",
       "      <td>Chikka Tirupathi</td>\n",
       "      <td>4 Bedroom</td>\n",
       "      <td>Theanmp</td>\n",
       "      <td>2600</td>\n",
       "      <td>5.0</td>\n",
       "      <td>3.0</td>\n",
       "      <td>120.00</td>\n",
       "    </tr>\n",
       "    <tr>\n",
       "      <th>2</th>\n",
       "      <td>Built-up  Area</td>\n",
       "      <td>Ready To Move</td>\n",
       "      <td>Uttarahalli</td>\n",
       "      <td>3 BHK</td>\n",
       "      <td>NaN</td>\n",
       "      <td>1440</td>\n",
       "      <td>2.0</td>\n",
       "      <td>3.0</td>\n",
       "      <td>62.00</td>\n",
       "    </tr>\n",
       "    <tr>\n",
       "      <th>3</th>\n",
       "      <td>Super built-up  Area</td>\n",
       "      <td>Ready To Move</td>\n",
       "      <td>Lingadheeranahalli</td>\n",
       "      <td>3 BHK</td>\n",
       "      <td>Soiewre</td>\n",
       "      <td>1521</td>\n",
       "      <td>3.0</td>\n",
       "      <td>1.0</td>\n",
       "      <td>95.00</td>\n",
       "    </tr>\n",
       "    <tr>\n",
       "      <th>4</th>\n",
       "      <td>Super built-up  Area</td>\n",
       "      <td>Ready To Move</td>\n",
       "      <td>Kothanur</td>\n",
       "      <td>2 BHK</td>\n",
       "      <td>NaN</td>\n",
       "      <td>1200</td>\n",
       "      <td>2.0</td>\n",
       "      <td>1.0</td>\n",
       "      <td>51.00</td>\n",
       "    </tr>\n",
       "  </tbody>\n",
       "</table>\n",
       "</div>"
      ],
      "text/plain": [
       "              area_type   availability                  location       size  \\\n",
       "0  Super built-up  Area         19-Dec  Electronic City Phase II      2 BHK   \n",
       "1            Plot  Area  Ready To Move          Chikka Tirupathi  4 Bedroom   \n",
       "2        Built-up  Area  Ready To Move               Uttarahalli      3 BHK   \n",
       "3  Super built-up  Area  Ready To Move        Lingadheeranahalli      3 BHK   \n",
       "4  Super built-up  Area  Ready To Move                  Kothanur      2 BHK   \n",
       "\n",
       "   society total_sqft  bath  balcony   price  \n",
       "0  Coomee        1056   2.0      1.0   39.07  \n",
       "1  Theanmp       2600   5.0      3.0  120.00  \n",
       "2      NaN       1440   2.0      3.0   62.00  \n",
       "3  Soiewre       1521   3.0      1.0   95.00  \n",
       "4      NaN       1200   2.0      1.0   51.00  "
      ]
     },
     "execution_count": 9,
     "metadata": {},
     "output_type": "execute_result"
    }
   ],
   "source": [
    "df.head(5)"
   ]
  },
  {
   "cell_type": "code",
   "execution_count": 10,
   "id": "5bb4c18f",
   "metadata": {
    "execution": {
     "iopub.execute_input": "2023-02-12T05:00:41.121837Z",
     "iopub.status.busy": "2023-02-12T05:00:41.120953Z",
     "iopub.status.idle": "2023-02-12T05:00:41.159317Z",
     "shell.execute_reply": "2023-02-12T05:00:41.157256Z"
    },
    "papermill": {
     "duration": 0.066575,
     "end_time": "2023-02-12T05:00:41.163136",
     "exception": false,
     "start_time": "2023-02-12T05:00:41.096561",
     "status": "completed"
    },
    "tags": []
   },
   "outputs": [
    {
     "name": "stdout",
     "output_type": "stream",
     "text": [
      "AREA_TYPE :  4\n",
      "Super built-up  Area    8317\n",
      "Built-up  Area          2398\n",
      "Plot  Area              1989\n",
      "Carpet  Area              87\n",
      "Name: area_type, dtype: int64\n",
      "\n",
      "\n",
      "AVAILABILITY :  81\n",
      "Ready To Move    10172\n",
      "18-May             292\n",
      "18-Dec             284\n",
      "18-Apr             269\n",
      "18-Aug             187\n",
      "                 ...  \n",
      "14-Nov               1\n",
      "17-Jan               1\n",
      "16-Nov               1\n",
      "16-Jan               1\n",
      "14-Jul               1\n",
      "Name: availability, Length: 81, dtype: int64\n",
      "\n",
      "\n",
      "LOCATION :  1305\n",
      "Whitefield              523\n",
      "Sarjapur  Road          379\n",
      "Electronic City         287\n",
      "Kanakpura Road          249\n",
      "Thanisandra             229\n",
      "                       ... \n",
      "Richmond Road             1\n",
      "Kanakapura  Rod           1\n",
      "Off Bannergatta Road      1\n",
      "Bhattarahalli             1\n",
      "Abshot Layout             1\n",
      "Name: location, Length: 1305, dtype: int64\n",
      "\n",
      "\n",
      "SIZE :  31\n",
      "2 BHK         4931\n",
      "3 BHK         4120\n",
      "4 Bedroom      824\n",
      "4 BHK          574\n",
      "3 Bedroom      535\n",
      "1 BHK          521\n",
      "2 Bedroom      314\n",
      "5 Bedroom      291\n",
      "6 Bedroom      191\n",
      "1 Bedroom      104\n",
      "8 Bedroom       84\n",
      "7 Bedroom       82\n",
      "5 BHK           59\n",
      "9 Bedroom       46\n",
      "6 BHK           30\n",
      "7 BHK           17\n",
      "1 RK            13\n",
      "10 Bedroom      12\n",
      "9 BHK            8\n",
      "8 BHK            5\n",
      "11 BHK           2\n",
      "11 Bedroom       2\n",
      "10 BHK           2\n",
      "14 BHK           1\n",
      "13 BHK           1\n",
      "12 Bedroom       1\n",
      "27 BHK           1\n",
      "43 Bedroom       1\n",
      "16 BHK           1\n",
      "19 BHK           1\n",
      "18 Bedroom       1\n",
      "Name: size, dtype: int64\n",
      "\n",
      "\n",
      "SOCIETY :  2688\n",
      "GrrvaGr    68\n",
      "PrarePa    63\n",
      "Sryalan    56\n",
      "Prtates    54\n",
      "GMown E    52\n",
      "           ..\n",
      "Chaldi      1\n",
      "Pre 1ri     1\n",
      "SBiewid     1\n",
      "DSoodSh     1\n",
      "RSntsAp     1\n",
      "Name: society, Length: 2688, dtype: int64\n",
      "\n",
      "\n",
      "TOTAL_SQFT :  2117\n",
      "1200          808\n",
      "1100          210\n",
      "1500          202\n",
      "2400          196\n",
      "600           178\n",
      "             ... \n",
      "754             1\n",
      "2444            1\n",
      "3290            1\n",
      "629 - 1026      1\n",
      "4689            1\n",
      "Name: total_sqft, Length: 2117, dtype: int64\n",
      "\n",
      "\n"
     ]
    }
   ],
   "source": [
    "# unique values for categorical variables\n",
    "for col in cat_cols:\n",
    "    print(col.upper(),': ',df[col].nunique())\n",
    "    print(df[col].value_counts().sort_values(ascending=[False]))\n",
    "    print('\\n')"
   ]
  },
  {
   "cell_type": "code",
   "execution_count": 11,
   "id": "eff950be",
   "metadata": {
    "execution": {
     "iopub.execute_input": "2023-02-12T05:00:41.212120Z",
     "iopub.status.busy": "2023-02-12T05:00:41.210771Z",
     "iopub.status.idle": "2023-02-12T05:00:41.231734Z",
     "shell.execute_reply": "2023-02-12T05:00:41.230609Z"
    },
    "papermill": {
     "duration": 0.048673,
     "end_time": "2023-02-12T05:00:41.234593",
     "exception": false,
     "start_time": "2023-02-12T05:00:41.185920",
     "status": "completed"
    },
    "scrolled": true,
    "tags": []
   },
   "outputs": [
    {
     "data": {
      "text/plain": [
       "location       1\n",
       "size          16\n",
       "society     5328\n",
       "bath          73\n",
       "balcony      605\n",
       "dtype: int64"
      ]
     },
     "execution_count": 11,
     "metadata": {},
     "output_type": "execute_result"
    }
   ],
   "source": [
    "# Identifying columns with missing values\n",
    "\n",
    "df.isna().sum()[df.isna().sum()>0]"
   ]
  },
  {
   "cell_type": "code",
   "execution_count": 12,
   "id": "b8ad8a9b",
   "metadata": {
    "execution": {
     "iopub.execute_input": "2023-02-12T05:00:41.280921Z",
     "iopub.status.busy": "2023-02-12T05:00:41.279775Z",
     "iopub.status.idle": "2023-02-12T05:00:41.288481Z",
     "shell.execute_reply": "2023-02-12T05:00:41.286858Z"
    },
    "papermill": {
     "duration": 0.035428,
     "end_time": "2023-02-12T05:00:41.291870",
     "exception": false,
     "start_time": "2023-02-12T05:00:41.256442",
     "status": "completed"
    },
    "tags": []
   },
   "outputs": [],
   "source": [
    "# Dropping Society col as its having high missing values\n",
    "df.drop(['society'],axis=1,inplace=True)"
   ]
  },
  {
   "cell_type": "code",
   "execution_count": 13,
   "id": "43f3bf9e",
   "metadata": {
    "execution": {
     "iopub.execute_input": "2023-02-12T05:00:41.338302Z",
     "iopub.status.busy": "2023-02-12T05:00:41.337773Z",
     "iopub.status.idle": "2023-02-12T05:00:41.358720Z",
     "shell.execute_reply": "2023-02-12T05:00:41.356960Z"
    },
    "papermill": {
     "duration": 0.048177,
     "end_time": "2023-02-12T05:00:41.361744",
     "exception": false,
     "start_time": "2023-02-12T05:00:41.313567",
     "status": "completed"
    },
    "tags": []
   },
   "outputs": [
    {
     "data": {
      "text/plain": [
       "location      1\n",
       "size         16\n",
       "bath         73\n",
       "balcony     605\n",
       "dtype: int64"
      ]
     },
     "execution_count": 13,
     "metadata": {},
     "output_type": "execute_result"
    }
   ],
   "source": [
    "df.isna().sum()[df.isna().sum()>0]"
   ]
  },
  {
   "cell_type": "code",
   "execution_count": 14,
   "id": "f011966e",
   "metadata": {
    "execution": {
     "iopub.execute_input": "2023-02-12T05:00:41.410320Z",
     "iopub.status.busy": "2023-02-12T05:00:41.409382Z",
     "iopub.status.idle": "2023-02-12T05:00:41.418736Z",
     "shell.execute_reply": "2023-02-12T05:00:41.417485Z"
    },
    "papermill": {
     "duration": 0.037742,
     "end_time": "2023-02-12T05:00:41.421790",
     "exception": false,
     "start_time": "2023-02-12T05:00:41.384048",
     "status": "completed"
    },
    "tags": []
   },
   "outputs": [],
   "source": [
    "#imputing missing values in location with mode\n",
    "df['location'].fillna(df['location'].mode()[0],inplace=True)"
   ]
  },
  {
   "cell_type": "code",
   "execution_count": 15,
   "id": "a978d7ed",
   "metadata": {
    "execution": {
     "iopub.execute_input": "2023-02-12T05:00:41.469297Z",
     "iopub.status.busy": "2023-02-12T05:00:41.468429Z",
     "iopub.status.idle": "2023-02-12T05:00:41.480239Z",
     "shell.execute_reply": "2023-02-12T05:00:41.478936Z"
    },
    "papermill": {
     "duration": 0.039586,
     "end_time": "2023-02-12T05:00:41.483242",
     "exception": false,
     "start_time": "2023-02-12T05:00:41.443656",
     "status": "completed"
    },
    "tags": []
   },
   "outputs": [],
   "source": [
    "#dropping missing values rows\n",
    "df.dropna(axis=0, subset = ('size','bath','balcony'),inplace=True)"
   ]
  },
  {
   "cell_type": "code",
   "execution_count": 16,
   "id": "13911c6b",
   "metadata": {
    "execution": {
     "iopub.execute_input": "2023-02-12T05:00:41.530201Z",
     "iopub.status.busy": "2023-02-12T05:00:41.529248Z",
     "iopub.status.idle": "2023-02-12T05:00:41.548674Z",
     "shell.execute_reply": "2023-02-12T05:00:41.547286Z"
    },
    "papermill": {
     "duration": 0.047188,
     "end_time": "2023-02-12T05:00:41.551915",
     "exception": false,
     "start_time": "2023-02-12T05:00:41.504727",
     "status": "completed"
    },
    "tags": []
   },
   "outputs": [
    {
     "data": {
      "text/plain": [
       "Series([], dtype: int64)"
      ]
     },
     "execution_count": 16,
     "metadata": {},
     "output_type": "execute_result"
    }
   ],
   "source": [
    "df.isna().sum()[df.isna().sum()>0]\n",
    "\n",
    "# No null values remaining"
   ]
  },
  {
   "cell_type": "code",
   "execution_count": 17,
   "id": "02995dba",
   "metadata": {
    "execution": {
     "iopub.execute_input": "2023-02-12T05:00:41.601020Z",
     "iopub.status.busy": "2023-02-12T05:00:41.600455Z",
     "iopub.status.idle": "2023-02-12T05:00:41.633675Z",
     "shell.execute_reply": "2023-02-12T05:00:41.632075Z"
    },
    "papermill": {
     "duration": 0.061886,
     "end_time": "2023-02-12T05:00:41.636965",
     "exception": false,
     "start_time": "2023-02-12T05:00:41.575079",
     "status": "completed"
    },
    "tags": []
   },
   "outputs": [],
   "source": [
    "# Renaming col Size with bhk\n",
    "df['bhk']=df['size'].str.split().str.get(0).astype(int)"
   ]
  },
  {
   "cell_type": "code",
   "execution_count": 18,
   "id": "adf7244a",
   "metadata": {
    "execution": {
     "iopub.execute_input": "2023-02-12T05:00:41.683603Z",
     "iopub.status.busy": "2023-02-12T05:00:41.683041Z",
     "iopub.status.idle": "2023-02-12T05:00:41.705380Z",
     "shell.execute_reply": "2023-02-12T05:00:41.703648Z"
    },
    "papermill": {
     "duration": 0.049567,
     "end_time": "2023-02-12T05:00:41.708824",
     "exception": false,
     "start_time": "2023-02-12T05:00:41.659257",
     "status": "completed"
    },
    "tags": []
   },
   "outputs": [
    {
     "data": {
      "text/html": [
       "<div>\n",
       "<style scoped>\n",
       "    .dataframe tbody tr th:only-of-type {\n",
       "        vertical-align: middle;\n",
       "    }\n",
       "\n",
       "    .dataframe tbody tr th {\n",
       "        vertical-align: top;\n",
       "    }\n",
       "\n",
       "    .dataframe thead th {\n",
       "        text-align: right;\n",
       "    }\n",
       "</style>\n",
       "<table border=\"1\" class=\"dataframe\">\n",
       "  <thead>\n",
       "    <tr style=\"text-align: right;\">\n",
       "      <th></th>\n",
       "      <th>area_type</th>\n",
       "      <th>availability</th>\n",
       "      <th>location</th>\n",
       "      <th>size</th>\n",
       "      <th>total_sqft</th>\n",
       "      <th>bath</th>\n",
       "      <th>balcony</th>\n",
       "      <th>price</th>\n",
       "      <th>bhk</th>\n",
       "    </tr>\n",
       "  </thead>\n",
       "  <tbody>\n",
       "    <tr>\n",
       "      <th>459</th>\n",
       "      <td>Super built-up  Area</td>\n",
       "      <td>Ready To Move</td>\n",
       "      <td>1 Giri Nagar</td>\n",
       "      <td>11 BHK</td>\n",
       "      <td>5000</td>\n",
       "      <td>9.0</td>\n",
       "      <td>3.0</td>\n",
       "      <td>360.0</td>\n",
       "      <td>11</td>\n",
       "    </tr>\n",
       "    <tr>\n",
       "      <th>1718</th>\n",
       "      <td>Super built-up  Area</td>\n",
       "      <td>Ready To Move</td>\n",
       "      <td>2Electronic City Phase II</td>\n",
       "      <td>27 BHK</td>\n",
       "      <td>8000</td>\n",
       "      <td>27.0</td>\n",
       "      <td>0.0</td>\n",
       "      <td>230.0</td>\n",
       "      <td>27</td>\n",
       "    </tr>\n",
       "    <tr>\n",
       "      <th>1768</th>\n",
       "      <td>Plot  Area</td>\n",
       "      <td>Ready To Move</td>\n",
       "      <td>1 Ramamurthy Nagar</td>\n",
       "      <td>11 Bedroom</td>\n",
       "      <td>1200</td>\n",
       "      <td>11.0</td>\n",
       "      <td>0.0</td>\n",
       "      <td>170.0</td>\n",
       "      <td>11</td>\n",
       "    </tr>\n",
       "    <tr>\n",
       "      <th>3853</th>\n",
       "      <td>Plot  Area</td>\n",
       "      <td>Ready To Move</td>\n",
       "      <td>1 Annasandrapalya</td>\n",
       "      <td>11 Bedroom</td>\n",
       "      <td>1200</td>\n",
       "      <td>6.0</td>\n",
       "      <td>3.0</td>\n",
       "      <td>150.0</td>\n",
       "      <td>11</td>\n",
       "    </tr>\n",
       "    <tr>\n",
       "      <th>4684</th>\n",
       "      <td>Plot  Area</td>\n",
       "      <td>Ready To Move</td>\n",
       "      <td>Munnekollal</td>\n",
       "      <td>43 Bedroom</td>\n",
       "      <td>2400</td>\n",
       "      <td>40.0</td>\n",
       "      <td>0.0</td>\n",
       "      <td>660.0</td>\n",
       "      <td>43</td>\n",
       "    </tr>\n",
       "    <tr>\n",
       "      <th>4916</th>\n",
       "      <td>Super built-up  Area</td>\n",
       "      <td>Ready To Move</td>\n",
       "      <td>1Channasandra</td>\n",
       "      <td>14 BHK</td>\n",
       "      <td>1250</td>\n",
       "      <td>15.0</td>\n",
       "      <td>0.0</td>\n",
       "      <td>125.0</td>\n",
       "      <td>14</td>\n",
       "    </tr>\n",
       "    <tr>\n",
       "      <th>6533</th>\n",
       "      <td>Plot  Area</td>\n",
       "      <td>Ready To Move</td>\n",
       "      <td>Mysore Road</td>\n",
       "      <td>12 Bedroom</td>\n",
       "      <td>2232</td>\n",
       "      <td>6.0</td>\n",
       "      <td>2.0</td>\n",
       "      <td>300.0</td>\n",
       "      <td>12</td>\n",
       "    </tr>\n",
       "    <tr>\n",
       "      <th>9935</th>\n",
       "      <td>Super built-up  Area</td>\n",
       "      <td>Ready To Move</td>\n",
       "      <td>1Hoysalanagar</td>\n",
       "      <td>13 BHK</td>\n",
       "      <td>5425</td>\n",
       "      <td>13.0</td>\n",
       "      <td>0.0</td>\n",
       "      <td>275.0</td>\n",
       "      <td>13</td>\n",
       "    </tr>\n",
       "  </tbody>\n",
       "</table>\n",
       "</div>"
      ],
      "text/plain": [
       "                 area_type   availability                   location  \\\n",
       "459   Super built-up  Area  Ready To Move               1 Giri Nagar   \n",
       "1718  Super built-up  Area  Ready To Move  2Electronic City Phase II   \n",
       "1768            Plot  Area  Ready To Move         1 Ramamurthy Nagar   \n",
       "3853            Plot  Area  Ready To Move          1 Annasandrapalya   \n",
       "4684            Plot  Area  Ready To Move                Munnekollal   \n",
       "4916  Super built-up  Area  Ready To Move              1Channasandra   \n",
       "6533            Plot  Area  Ready To Move                Mysore Road   \n",
       "9935  Super built-up  Area  Ready To Move              1Hoysalanagar   \n",
       "\n",
       "            size total_sqft  bath  balcony  price  bhk  \n",
       "459       11 BHK       5000   9.0      3.0  360.0   11  \n",
       "1718      27 BHK       8000  27.0      0.0  230.0   27  \n",
       "1768  11 Bedroom       1200  11.0      0.0  170.0   11  \n",
       "3853  11 Bedroom       1200   6.0      3.0  150.0   11  \n",
       "4684  43 Bedroom       2400  40.0      0.0  660.0   43  \n",
       "4916      14 BHK       1250  15.0      0.0  125.0   14  \n",
       "6533  12 Bedroom       2232   6.0      2.0  300.0   12  \n",
       "9935      13 BHK       5425  13.0      0.0  275.0   13  "
      ]
     },
     "execution_count": 18,
     "metadata": {},
     "output_type": "execute_result"
    }
   ],
   "source": [
    "df[df.bhk>10]"
   ]
  },
  {
   "cell_type": "code",
   "execution_count": 19,
   "id": "269b2959",
   "metadata": {
    "execution": {
     "iopub.execute_input": "2023-02-12T05:00:41.759750Z",
     "iopub.status.busy": "2023-02-12T05:00:41.759112Z",
     "iopub.status.idle": "2023-02-12T05:00:41.768639Z",
     "shell.execute_reply": "2023-02-12T05:00:41.767118Z"
    },
    "papermill": {
     "duration": 0.039458,
     "end_time": "2023-02-12T05:00:41.772420",
     "exception": false,
     "start_time": "2023-02-12T05:00:41.732962",
     "status": "completed"
    },
    "tags": []
   },
   "outputs": [],
   "source": [
    "# We need to convert the range values available in 'total_sqft' column\n",
    "def range_converter(x):\n",
    "    temp = x.split('-')\n",
    "    \n",
    "    if len(temp)==2:\n",
    "        return (float(temp[0])+float(temp[1]))/2\n",
    "    \n",
    "    try:\n",
    "        return float(x)\n",
    "    except:\n",
    "        return None       \n",
    "    "
   ]
  },
  {
   "cell_type": "code",
   "execution_count": 20,
   "id": "cdd39484",
   "metadata": {
    "execution": {
     "iopub.execute_input": "2023-02-12T05:00:41.821175Z",
     "iopub.status.busy": "2023-02-12T05:00:41.820670Z",
     "iopub.status.idle": "2023-02-12T05:00:41.841242Z",
     "shell.execute_reply": "2023-02-12T05:00:41.840050Z"
    },
    "papermill": {
     "duration": 0.049521,
     "end_time": "2023-02-12T05:00:41.844278",
     "exception": false,
     "start_time": "2023-02-12T05:00:41.794757",
     "status": "completed"
    },
    "tags": []
   },
   "outputs": [],
   "source": [
    "df['total_sqft']=df['total_sqft'].apply(range_converter)"
   ]
  },
  {
   "cell_type": "code",
   "execution_count": 21,
   "id": "6eae7125",
   "metadata": {
    "execution": {
     "iopub.execute_input": "2023-02-12T05:00:41.890844Z",
     "iopub.status.busy": "2023-02-12T05:00:41.890242Z",
     "iopub.status.idle": "2023-02-12T05:00:41.899119Z",
     "shell.execute_reply": "2023-02-12T05:00:41.897545Z"
    },
    "papermill": {
     "duration": 0.035366,
     "end_time": "2023-02-12T05:00:41.902165",
     "exception": false,
     "start_time": "2023-02-12T05:00:41.866799",
     "status": "completed"
    },
    "tags": []
   },
   "outputs": [],
   "source": [
    "#Adding price(in Rs) per unit area column\n",
    "\n",
    "df['price_per_sqft']=(df['price']*100000/df['total_sqft']).round()"
   ]
  },
  {
   "cell_type": "code",
   "execution_count": 22,
   "id": "94b791d8",
   "metadata": {
    "execution": {
     "iopub.execute_input": "2023-02-12T05:00:41.951369Z",
     "iopub.status.busy": "2023-02-12T05:00:41.950894Z",
     "iopub.status.idle": "2023-02-12T05:00:41.971139Z",
     "shell.execute_reply": "2023-02-12T05:00:41.969464Z"
    },
    "papermill": {
     "duration": 0.048432,
     "end_time": "2023-02-12T05:00:41.974604",
     "exception": false,
     "start_time": "2023-02-12T05:00:41.926172",
     "status": "completed"
    },
    "tags": []
   },
   "outputs": [
    {
     "data": {
      "text/html": [
       "<div>\n",
       "<style scoped>\n",
       "    .dataframe tbody tr th:only-of-type {\n",
       "        vertical-align: middle;\n",
       "    }\n",
       "\n",
       "    .dataframe tbody tr th {\n",
       "        vertical-align: top;\n",
       "    }\n",
       "\n",
       "    .dataframe thead th {\n",
       "        text-align: right;\n",
       "    }\n",
       "</style>\n",
       "<table border=\"1\" class=\"dataframe\">\n",
       "  <thead>\n",
       "    <tr style=\"text-align: right;\">\n",
       "      <th></th>\n",
       "      <th>area_type</th>\n",
       "      <th>availability</th>\n",
       "      <th>location</th>\n",
       "      <th>size</th>\n",
       "      <th>total_sqft</th>\n",
       "      <th>bath</th>\n",
       "      <th>balcony</th>\n",
       "      <th>price</th>\n",
       "      <th>bhk</th>\n",
       "      <th>price_per_sqft</th>\n",
       "    </tr>\n",
       "  </thead>\n",
       "  <tbody>\n",
       "    <tr>\n",
       "      <th>0</th>\n",
       "      <td>Super built-up  Area</td>\n",
       "      <td>19-Dec</td>\n",
       "      <td>Electronic City Phase II</td>\n",
       "      <td>2 BHK</td>\n",
       "      <td>1056.0</td>\n",
       "      <td>2.0</td>\n",
       "      <td>1.0</td>\n",
       "      <td>39.07</td>\n",
       "      <td>2</td>\n",
       "      <td>3700.0</td>\n",
       "    </tr>\n",
       "    <tr>\n",
       "      <th>1</th>\n",
       "      <td>Plot  Area</td>\n",
       "      <td>Ready To Move</td>\n",
       "      <td>Chikka Tirupathi</td>\n",
       "      <td>4 Bedroom</td>\n",
       "      <td>2600.0</td>\n",
       "      <td>5.0</td>\n",
       "      <td>3.0</td>\n",
       "      <td>120.00</td>\n",
       "      <td>4</td>\n",
       "      <td>4615.0</td>\n",
       "    </tr>\n",
       "    <tr>\n",
       "      <th>2</th>\n",
       "      <td>Built-up  Area</td>\n",
       "      <td>Ready To Move</td>\n",
       "      <td>Uttarahalli</td>\n",
       "      <td>3 BHK</td>\n",
       "      <td>1440.0</td>\n",
       "      <td>2.0</td>\n",
       "      <td>3.0</td>\n",
       "      <td>62.00</td>\n",
       "      <td>3</td>\n",
       "      <td>4306.0</td>\n",
       "    </tr>\n",
       "    <tr>\n",
       "      <th>3</th>\n",
       "      <td>Super built-up  Area</td>\n",
       "      <td>Ready To Move</td>\n",
       "      <td>Lingadheeranahalli</td>\n",
       "      <td>3 BHK</td>\n",
       "      <td>1521.0</td>\n",
       "      <td>3.0</td>\n",
       "      <td>1.0</td>\n",
       "      <td>95.00</td>\n",
       "      <td>3</td>\n",
       "      <td>6246.0</td>\n",
       "    </tr>\n",
       "    <tr>\n",
       "      <th>4</th>\n",
       "      <td>Super built-up  Area</td>\n",
       "      <td>Ready To Move</td>\n",
       "      <td>Kothanur</td>\n",
       "      <td>2 BHK</td>\n",
       "      <td>1200.0</td>\n",
       "      <td>2.0</td>\n",
       "      <td>1.0</td>\n",
       "      <td>51.00</td>\n",
       "      <td>2</td>\n",
       "      <td>4250.0</td>\n",
       "    </tr>\n",
       "  </tbody>\n",
       "</table>\n",
       "</div>"
      ],
      "text/plain": [
       "              area_type   availability                  location       size  \\\n",
       "0  Super built-up  Area         19-Dec  Electronic City Phase II      2 BHK   \n",
       "1            Plot  Area  Ready To Move          Chikka Tirupathi  4 Bedroom   \n",
       "2        Built-up  Area  Ready To Move               Uttarahalli      3 BHK   \n",
       "3  Super built-up  Area  Ready To Move        Lingadheeranahalli      3 BHK   \n",
       "4  Super built-up  Area  Ready To Move                  Kothanur      2 BHK   \n",
       "\n",
       "   total_sqft  bath  balcony   price  bhk  price_per_sqft  \n",
       "0      1056.0   2.0      1.0   39.07    2          3700.0  \n",
       "1      2600.0   5.0      3.0  120.00    4          4615.0  \n",
       "2      1440.0   2.0      3.0   62.00    3          4306.0  \n",
       "3      1521.0   3.0      1.0   95.00    3          6246.0  \n",
       "4      1200.0   2.0      1.0   51.00    2          4250.0  "
      ]
     },
     "execution_count": 22,
     "metadata": {},
     "output_type": "execute_result"
    }
   ],
   "source": [
    "df.head()"
   ]
  },
  {
   "cell_type": "code",
   "execution_count": 23,
   "id": "14c75328",
   "metadata": {
    "execution": {
     "iopub.execute_input": "2023-02-12T05:00:42.024466Z",
     "iopub.status.busy": "2023-02-12T05:00:42.023711Z",
     "iopub.status.idle": "2023-02-12T05:00:42.040124Z",
     "shell.execute_reply": "2023-02-12T05:00:42.038517Z"
    },
    "papermill": {
     "duration": 0.045194,
     "end_time": "2023-02-12T05:00:42.043237",
     "exception": false,
     "start_time": "2023-02-12T05:00:41.998043",
     "status": "completed"
    },
    "tags": []
   },
   "outputs": [
    {
     "data": {
      "text/plain": [
       "area_type          0\n",
       "availability       0\n",
       "location           0\n",
       "size               0\n",
       "total_sqft        42\n",
       "bath               0\n",
       "balcony            0\n",
       "price              0\n",
       "bhk                0\n",
       "price_per_sqft    42\n",
       "dtype: int64"
      ]
     },
     "execution_count": 23,
     "metadata": {},
     "output_type": "execute_result"
    }
   ],
   "source": [
    "df.isna().sum()"
   ]
  },
  {
   "cell_type": "code",
   "execution_count": 24,
   "id": "fa75e2ba",
   "metadata": {
    "execution": {
     "iopub.execute_input": "2023-02-12T05:00:42.091563Z",
     "iopub.status.busy": "2023-02-12T05:00:42.091029Z",
     "iopub.status.idle": "2023-02-12T05:00:42.108513Z",
     "shell.execute_reply": "2023-02-12T05:00:42.107089Z"
    },
    "papermill": {
     "duration": 0.045709,
     "end_time": "2023-02-12T05:00:42.111787",
     "exception": false,
     "start_time": "2023-02-12T05:00:42.066078",
     "status": "completed"
    },
    "tags": []
   },
   "outputs": [],
   "source": [
    "#dropping rows with Nan to remove Null \"total_sqft\" value rows\n",
    "\n",
    "df.dropna(how='any',axis=0,inplace=True)"
   ]
  },
  {
   "cell_type": "code",
   "execution_count": 25,
   "id": "5814b4ff",
   "metadata": {
    "execution": {
     "iopub.execute_input": "2023-02-12T05:00:42.160002Z",
     "iopub.status.busy": "2023-02-12T05:00:42.159478Z",
     "iopub.status.idle": "2023-02-12T05:00:42.174709Z",
     "shell.execute_reply": "2023-02-12T05:00:42.173310Z"
    },
    "papermill": {
     "duration": 0.043222,
     "end_time": "2023-02-12T05:00:42.177906",
     "exception": false,
     "start_time": "2023-02-12T05:00:42.134684",
     "status": "completed"
    },
    "tags": []
   },
   "outputs": [
    {
     "data": {
      "text/plain": [
       "area_type         0\n",
       "availability      0\n",
       "location          0\n",
       "size              0\n",
       "total_sqft        0\n",
       "bath              0\n",
       "balcony           0\n",
       "price             0\n",
       "bhk               0\n",
       "price_per_sqft    0\n",
       "dtype: int64"
      ]
     },
     "execution_count": 25,
     "metadata": {},
     "output_type": "execute_result"
    }
   ],
   "source": [
    "df.isna().sum()"
   ]
  },
  {
   "cell_type": "code",
   "execution_count": 26,
   "id": "4dc08034",
   "metadata": {
    "execution": {
     "iopub.execute_input": "2023-02-12T05:00:42.227216Z",
     "iopub.status.busy": "2023-02-12T05:00:42.226654Z",
     "iopub.status.idle": "2023-02-12T05:00:42.238163Z",
     "shell.execute_reply": "2023-02-12T05:00:42.236799Z"
    },
    "papermill": {
     "duration": 0.040403,
     "end_time": "2023-02-12T05:00:42.241383",
     "exception": false,
     "start_time": "2023-02-12T05:00:42.200980",
     "status": "completed"
    },
    "tags": []
   },
   "outputs": [],
   "source": [
    "# Location column has 1305 unique values. This is quite large and is not favourable for encoding.\n",
    "# Hence reducing the number of unique values by combining similar values\n",
    "\n",
    "# Removing the empty spaces in location col. and getting the value counts for each location\n",
    "df['location']=df['location'].apply(lambda x:x.strip())"
   ]
  },
  {
   "cell_type": "code",
   "execution_count": 27,
   "id": "4184d209",
   "metadata": {
    "execution": {
     "iopub.execute_input": "2023-02-12T05:00:42.291922Z",
     "iopub.status.busy": "2023-02-12T05:00:42.291367Z",
     "iopub.status.idle": "2023-02-12T05:01:19.064038Z",
     "shell.execute_reply": "2023-02-12T05:01:19.062904Z"
    },
    "papermill": {
     "duration": 36.802514,
     "end_time": "2023-02-12T05:01:19.066917",
     "exception": false,
     "start_time": "2023-02-12T05:00:42.264403",
     "status": "completed"
    },
    "tags": []
   },
   "outputs": [],
   "source": [
    "#Replacing Locations with <10 value_counts to \"Others\" category so as to reduce the unique count\n",
    "df['location']=df['location'].apply(lambda x:'other'if x in df['location'].value_counts()[df['location'].value_counts()<=10] else x)"
   ]
  },
  {
   "cell_type": "code",
   "execution_count": 28,
   "id": "f26ac0a3",
   "metadata": {
    "execution": {
     "iopub.execute_input": "2023-02-12T05:01:19.114732Z",
     "iopub.status.busy": "2023-02-12T05:01:19.113292Z",
     "iopub.status.idle": "2023-02-12T05:01:19.135716Z",
     "shell.execute_reply": "2023-02-12T05:01:19.134080Z"
    },
    "papermill": {
     "duration": 0.049539,
     "end_time": "2023-02-12T05:01:19.138744",
     "exception": false,
     "start_time": "2023-02-12T05:01:19.089205",
     "status": "completed"
    },
    "tags": []
   },
   "outputs": [
    {
     "data": {
      "text/html": [
       "<div>\n",
       "<style scoped>\n",
       "    .dataframe tbody tr th:only-of-type {\n",
       "        vertical-align: middle;\n",
       "    }\n",
       "\n",
       "    .dataframe tbody tr th {\n",
       "        vertical-align: top;\n",
       "    }\n",
       "\n",
       "    .dataframe thead th {\n",
       "        text-align: right;\n",
       "    }\n",
       "</style>\n",
       "<table border=\"1\" class=\"dataframe\">\n",
       "  <thead>\n",
       "    <tr style=\"text-align: right;\">\n",
       "      <th></th>\n",
       "      <th>area_type</th>\n",
       "      <th>availability</th>\n",
       "      <th>location</th>\n",
       "      <th>size</th>\n",
       "      <th>total_sqft</th>\n",
       "      <th>bath</th>\n",
       "      <th>balcony</th>\n",
       "      <th>price</th>\n",
       "      <th>bhk</th>\n",
       "      <th>price_per_sqft</th>\n",
       "    </tr>\n",
       "  </thead>\n",
       "  <tbody>\n",
       "    <tr>\n",
       "      <th>11901</th>\n",
       "      <td>Built-up  Area</td>\n",
       "      <td>Ready To Move</td>\n",
       "      <td>Shampura</td>\n",
       "      <td>7 Bedroom</td>\n",
       "      <td>2800.0</td>\n",
       "      <td>5.0</td>\n",
       "      <td>3.0</td>\n",
       "      <td>95.0</td>\n",
       "      <td>7</td>\n",
       "      <td>3393.0</td>\n",
       "    </tr>\n",
       "    <tr>\n",
       "      <th>3797</th>\n",
       "      <td>Plot  Area</td>\n",
       "      <td>Ready To Move</td>\n",
       "      <td>other</td>\n",
       "      <td>2 Bedroom</td>\n",
       "      <td>675.0</td>\n",
       "      <td>3.0</td>\n",
       "      <td>1.0</td>\n",
       "      <td>52.0</td>\n",
       "      <td>2</td>\n",
       "      <td>7704.0</td>\n",
       "    </tr>\n",
       "    <tr>\n",
       "      <th>438</th>\n",
       "      <td>Super built-up  Area</td>\n",
       "      <td>Ready To Move</td>\n",
       "      <td>Dasanapura</td>\n",
       "      <td>2 BHK</td>\n",
       "      <td>708.0</td>\n",
       "      <td>1.0</td>\n",
       "      <td>1.0</td>\n",
       "      <td>40.0</td>\n",
       "      <td>2</td>\n",
       "      <td>5650.0</td>\n",
       "    </tr>\n",
       "    <tr>\n",
       "      <th>195</th>\n",
       "      <td>Super built-up  Area</td>\n",
       "      <td>Ready To Move</td>\n",
       "      <td>Yelahanka</td>\n",
       "      <td>2 BHK</td>\n",
       "      <td>1327.0</td>\n",
       "      <td>2.0</td>\n",
       "      <td>2.0</td>\n",
       "      <td>98.0</td>\n",
       "      <td>2</td>\n",
       "      <td>7385.0</td>\n",
       "    </tr>\n",
       "    <tr>\n",
       "      <th>12529</th>\n",
       "      <td>Built-up  Area</td>\n",
       "      <td>Ready To Move</td>\n",
       "      <td>Lakshminarayana Pura</td>\n",
       "      <td>2 BHK</td>\n",
       "      <td>1200.0</td>\n",
       "      <td>2.0</td>\n",
       "      <td>1.0</td>\n",
       "      <td>80.0</td>\n",
       "      <td>2</td>\n",
       "      <td>6667.0</td>\n",
       "    </tr>\n",
       "  </tbody>\n",
       "</table>\n",
       "</div>"
      ],
      "text/plain": [
       "                  area_type   availability              location       size  \\\n",
       "11901        Built-up  Area  Ready To Move              Shampura  7 Bedroom   \n",
       "3797             Plot  Area  Ready To Move                 other  2 Bedroom   \n",
       "438    Super built-up  Area  Ready To Move            Dasanapura      2 BHK   \n",
       "195    Super built-up  Area  Ready To Move             Yelahanka      2 BHK   \n",
       "12529        Built-up  Area  Ready To Move  Lakshminarayana Pura      2 BHK   \n",
       "\n",
       "       total_sqft  bath  balcony  price  bhk  price_per_sqft  \n",
       "11901      2800.0   5.0      3.0   95.0    7          3393.0  \n",
       "3797        675.0   3.0      1.0   52.0    2          7704.0  \n",
       "438         708.0   1.0      1.0   40.0    2          5650.0  \n",
       "195        1327.0   2.0      2.0   98.0    2          7385.0  \n",
       "12529      1200.0   2.0      1.0   80.0    2          6667.0  "
      ]
     },
     "execution_count": 28,
     "metadata": {},
     "output_type": "execute_result"
    }
   ],
   "source": [
    "df.sample(5)"
   ]
  },
  {
   "cell_type": "code",
   "execution_count": 29,
   "id": "3dbf119b",
   "metadata": {
    "execution": {
     "iopub.execute_input": "2023-02-12T05:01:19.187284Z",
     "iopub.status.busy": "2023-02-12T05:01:19.186791Z",
     "iopub.status.idle": "2023-02-12T05:01:19.198733Z",
     "shell.execute_reply": "2023-02-12T05:01:19.197310Z"
    },
    "papermill": {
     "duration": 0.038551,
     "end_time": "2023-02-12T05:01:19.201141",
     "exception": false,
     "start_time": "2023-02-12T05:01:19.162590",
     "status": "completed"
    },
    "tags": []
   },
   "outputs": [
    {
     "data": {
      "text/plain": [
       "other                   2808\n",
       "Whitefield               498\n",
       "Sarjapur  Road           352\n",
       "Electronic City          287\n",
       "Kanakpura Road           236\n",
       "                        ... \n",
       "Karuna Nagar              11\n",
       "Nagasandra                11\n",
       "Vishveshwarya Layout      11\n",
       "LB Shastri Nagar          11\n",
       "Mico Layout               11\n",
       "Name: location, Length: 226, dtype: int64"
      ]
     },
     "execution_count": 29,
     "metadata": {},
     "output_type": "execute_result"
    }
   ],
   "source": [
    "df['location'].value_counts()\n",
    "\n",
    "#length has reduced from 1305 to 226 with 2808 in \"Others\" category"
   ]
  },
  {
   "cell_type": "code",
   "execution_count": 30,
   "id": "d488f3db",
   "metadata": {
    "execution": {
     "iopub.execute_input": "2023-02-12T05:01:19.250680Z",
     "iopub.status.busy": "2023-02-12T05:01:19.249909Z",
     "iopub.status.idle": "2023-02-12T05:01:19.287936Z",
     "shell.execute_reply": "2023-02-12T05:01:19.286416Z"
    },
    "papermill": {
     "duration": 0.066412,
     "end_time": "2023-02-12T05:01:19.290951",
     "exception": false,
     "start_time": "2023-02-12T05:01:19.224539",
     "status": "completed"
    },
    "tags": []
   },
   "outputs": [
    {
     "data": {
      "text/html": [
       "<div>\n",
       "<style scoped>\n",
       "    .dataframe tbody tr th:only-of-type {\n",
       "        vertical-align: middle;\n",
       "    }\n",
       "\n",
       "    .dataframe tbody tr th {\n",
       "        vertical-align: top;\n",
       "    }\n",
       "\n",
       "    .dataframe thead th {\n",
       "        text-align: right;\n",
       "    }\n",
       "</style>\n",
       "<table border=\"1\" class=\"dataframe\">\n",
       "  <thead>\n",
       "    <tr style=\"text-align: right;\">\n",
       "      <th></th>\n",
       "      <th>count</th>\n",
       "      <th>mean</th>\n",
       "      <th>std</th>\n",
       "      <th>min</th>\n",
       "      <th>25%</th>\n",
       "      <th>50%</th>\n",
       "      <th>75%</th>\n",
       "      <th>max</th>\n",
       "    </tr>\n",
       "  </thead>\n",
       "  <tbody>\n",
       "    <tr>\n",
       "      <th>total_sqft</th>\n",
       "      <td>12144.0</td>\n",
       "      <td>1520.568928</td>\n",
       "      <td>1183.074391</td>\n",
       "      <td>5.0</td>\n",
       "      <td>1100.0</td>\n",
       "      <td>1265.5</td>\n",
       "      <td>1650.00</td>\n",
       "      <td>52272.0</td>\n",
       "    </tr>\n",
       "    <tr>\n",
       "      <th>bath</th>\n",
       "      <td>12144.0</td>\n",
       "      <td>2.630023</td>\n",
       "      <td>1.238193</td>\n",
       "      <td>1.0</td>\n",
       "      <td>2.0</td>\n",
       "      <td>2.0</td>\n",
       "      <td>3.00</td>\n",
       "      <td>40.0</td>\n",
       "    </tr>\n",
       "    <tr>\n",
       "      <th>balcony</th>\n",
       "      <td>12144.0</td>\n",
       "      <td>1.583663</td>\n",
       "      <td>0.822008</td>\n",
       "      <td>0.0</td>\n",
       "      <td>1.0</td>\n",
       "      <td>2.0</td>\n",
       "      <td>2.00</td>\n",
       "      <td>3.0</td>\n",
       "    </tr>\n",
       "    <tr>\n",
       "      <th>price</th>\n",
       "      <td>12144.0</td>\n",
       "      <td>107.522152</td>\n",
       "      <td>134.074277</td>\n",
       "      <td>8.0</td>\n",
       "      <td>50.0</td>\n",
       "      <td>70.0</td>\n",
       "      <td>115.00</td>\n",
       "      <td>2912.0</td>\n",
       "    </tr>\n",
       "    <tr>\n",
       "      <th>bhk</th>\n",
       "      <td>12144.0</td>\n",
       "      <td>2.748600</td>\n",
       "      <td>1.218238</td>\n",
       "      <td>1.0</td>\n",
       "      <td>2.0</td>\n",
       "      <td>3.0</td>\n",
       "      <td>3.00</td>\n",
       "      <td>43.0</td>\n",
       "    </tr>\n",
       "    <tr>\n",
       "      <th>price_per_sqft</th>\n",
       "      <td>12144.0</td>\n",
       "      <td>6952.093626</td>\n",
       "      <td>23108.407895</td>\n",
       "      <td>268.0</td>\n",
       "      <td>4275.5</td>\n",
       "      <td>5417.0</td>\n",
       "      <td>7228.25</td>\n",
       "      <td>2300000.0</td>\n",
       "    </tr>\n",
       "  </tbody>\n",
       "</table>\n",
       "</div>"
      ],
      "text/plain": [
       "                  count         mean           std    min     25%     50%  \\\n",
       "total_sqft      12144.0  1520.568928   1183.074391    5.0  1100.0  1265.5   \n",
       "bath            12144.0     2.630023      1.238193    1.0     2.0     2.0   \n",
       "balcony         12144.0     1.583663      0.822008    0.0     1.0     2.0   \n",
       "price           12144.0   107.522152    134.074277    8.0    50.0    70.0   \n",
       "bhk             12144.0     2.748600      1.218238    1.0     2.0     3.0   \n",
       "price_per_sqft  12144.0  6952.093626  23108.407895  268.0  4275.5  5417.0   \n",
       "\n",
       "                    75%        max  \n",
       "total_sqft      1650.00    52272.0  \n",
       "bath               3.00       40.0  \n",
       "balcony            2.00        3.0  \n",
       "price            115.00     2912.0  \n",
       "bhk                3.00       43.0  \n",
       "price_per_sqft  7228.25  2300000.0  "
      ]
     },
     "execution_count": 30,
     "metadata": {},
     "output_type": "execute_result"
    }
   ],
   "source": [
    "# Revisiting the Numeric Features to identify descrepencies.\n",
    "\n",
    "df.describe().T"
   ]
  },
  {
   "cell_type": "code",
   "execution_count": 31,
   "id": "d1d66c77",
   "metadata": {
    "execution": {
     "iopub.execute_input": "2023-02-12T05:01:19.340884Z",
     "iopub.status.busy": "2023-02-12T05:01:19.340014Z",
     "iopub.status.idle": "2023-02-12T05:01:19.351301Z",
     "shell.execute_reply": "2023-02-12T05:01:19.350283Z"
    },
    "papermill": {
     "duration": 0.039492,
     "end_time": "2023-02-12T05:01:19.354050",
     "exception": false,
     "start_time": "2023-02-12T05:01:19.314558",
     "status": "completed"
    },
    "tags": []
   },
   "outputs": [
    {
     "data": {
      "text/plain": [
       "4972         5.0\n",
       "349         11.0\n",
       "1020        15.0\n",
       "1122        24.0\n",
       "5970        45.0\n",
       "          ...   \n",
       "12987    30400.0\n",
       "674      35000.0\n",
       "5469     36000.0\n",
       "5393     42000.0\n",
       "1894     52272.0\n",
       "Name: total_sqft, Length: 12144, dtype: float64"
      ]
     },
     "execution_count": 31,
     "metadata": {},
     "output_type": "execute_result"
    }
   ],
   "source": [
    "# ADDRESSING DISCREPENCIES \n",
    "#1. TOTAL_SQFT :The total_sqft seems to be very low in some cases\n",
    "# In general an area of 350 sqft is required for 1 BHK flat. \n",
    "# Hence we drop the observations having total_sqft below 350 sqft\n",
    "\n",
    "df.total_sqft.sort_values()"
   ]
  },
  {
   "cell_type": "code",
   "execution_count": 32,
   "id": "d991c122",
   "metadata": {
    "execution": {
     "iopub.execute_input": "2023-02-12T05:01:19.403728Z",
     "iopub.status.busy": "2023-02-12T05:01:19.402855Z",
     "iopub.status.idle": "2023-02-12T05:01:19.413432Z",
     "shell.execute_reply": "2023-02-12T05:01:19.411791Z"
    },
    "papermill": {
     "duration": 0.039682,
     "end_time": "2023-02-12T05:01:19.417039",
     "exception": false,
     "start_time": "2023-02-12T05:01:19.377357",
     "status": "completed"
    },
    "tags": []
   },
   "outputs": [],
   "source": [
    "# Dropping observations with total_sqft<350 sqft\n",
    "\n",
    "df.drop(df[df['total_sqft']<350].index,inplace=True)"
   ]
  },
  {
   "cell_type": "code",
   "execution_count": 33,
   "id": "90c07189",
   "metadata": {
    "execution": {
     "iopub.execute_input": "2023-02-12T05:01:19.467126Z",
     "iopub.status.busy": "2023-02-12T05:01:19.466596Z",
     "iopub.status.idle": "2023-02-12T05:01:19.480966Z",
     "shell.execute_reply": "2023-02-12T05:01:19.479426Z"
    },
    "papermill": {
     "duration": 0.042306,
     "end_time": "2023-02-12T05:01:19.484150",
     "exception": false,
     "start_time": "2023-02-12T05:01:19.441844",
     "status": "completed"
    },
    "tags": []
   },
   "outputs": [
    {
     "data": {
      "text/plain": [
       "3741       350.0\n",
       "12464      350.0\n",
       "2557       351.0\n",
       "2041       360.0\n",
       "8494       360.0\n",
       "          ...   \n",
       "12987    30400.0\n",
       "674      35000.0\n",
       "5469     36000.0\n",
       "5393     42000.0\n",
       "1894     52272.0\n",
       "Name: total_sqft, Length: 12130, dtype: float64"
      ]
     },
     "execution_count": 33,
     "metadata": {},
     "output_type": "execute_result"
    }
   ],
   "source": [
    "df.total_sqft.sort_values()\n",
    "\n",
    "# all observations above 350 sqft now"
   ]
  },
  {
   "cell_type": "code",
   "execution_count": 34,
   "id": "ae1c4e0f",
   "metadata": {
    "execution": {
     "iopub.execute_input": "2023-02-12T05:01:19.533750Z",
     "iopub.status.busy": "2023-02-12T05:01:19.533132Z",
     "iopub.status.idle": "2023-02-12T05:01:19.541306Z",
     "shell.execute_reply": "2023-02-12T05:01:19.539947Z"
    },
    "papermill": {
     "duration": 0.036851,
     "end_time": "2023-02-12T05:01:19.544000",
     "exception": false,
     "start_time": "2023-02-12T05:01:19.507149",
     "status": "completed"
    },
    "tags": []
   },
   "outputs": [
    {
     "data": {
      "text/plain": [
       "12130"
      ]
     },
     "execution_count": 34,
     "metadata": {},
     "output_type": "execute_result"
    }
   ],
   "source": [
    "len(df)\n",
    "# 14 observations removed having total_sqft <350"
   ]
  },
  {
   "cell_type": "code",
   "execution_count": 35,
   "id": "1ef4e361",
   "metadata": {
    "execution": {
     "iopub.execute_input": "2023-02-12T05:01:19.595795Z",
     "iopub.status.busy": "2023-02-12T05:01:19.595281Z",
     "iopub.status.idle": "2023-02-12T05:01:19.834274Z",
     "shell.execute_reply": "2023-02-12T05:01:19.832960Z"
    },
    "papermill": {
     "duration": 0.268963,
     "end_time": "2023-02-12T05:01:19.837142",
     "exception": false,
     "start_time": "2023-02-12T05:01:19.568179",
     "status": "completed"
    },
    "tags": []
   },
   "outputs": [
    {
     "name": "stdout",
     "output_type": "stream",
     "text": [
      "PRICE PER SQFT \n",
      " 1894        268.0\n",
      "674         371.0\n",
      "5393        417.0\n",
      "11748       500.0\n",
      "7242        574.0\n",
      "           ...   \n",
      "1567      50000.0\n",
      "7883      53150.0\n",
      "6421      76531.0\n",
      "7088      76923.0\n",
      "7657     176471.0\n",
      "Name: price_per_sqft, Length: 12130, dtype: float64\n"
     ]
    },
    {
     "data": {
      "text/plain": [
       "<AxesSubplot:xlabel='price_per_sqft'>"
      ]
     },
     "metadata": {},
     "output_type": "display_data"
    },
    {
     "data": {
      "image/png": "[encoded data removed]",
      "text/plain": [
       "<Figure size 432x288 with 1 Axes>"
      ]
     },
     "metadata": {
      "needs_background": "light"
     },
     "output_type": "display_data"
    }
   ],
   "source": [
    "#2. PRICE_PER_SQFT : We observe some exhorbitent high prices that can be considered as Outliers (Check describe table above)\n",
    "# We will remove the Outliers by comparing the price_per_sqft with the mean price_per_sqft of each location\n",
    "\n",
    "print(\"PRICE PER SQFT\",'\\n',df.price_per_sqft.sort_values());\n",
    "display(sns.boxplot(df['price_per_sqft']));"
   ]
  },
  {
   "cell_type": "code",
   "execution_count": 36,
   "id": "6378a968",
   "metadata": {
    "execution": {
     "iopub.execute_input": "2023-02-12T05:01:19.886831Z",
     "iopub.status.busy": "2023-02-12T05:01:19.886289Z",
     "iopub.status.idle": "2023-02-12T05:01:19.894458Z",
     "shell.execute_reply": "2023-02-12T05:01:19.893117Z"
    },
    "papermill": {
     "duration": 0.035943,
     "end_time": "2023-02-12T05:01:19.896943",
     "exception": false,
     "start_time": "2023-02-12T05:01:19.861000",
     "status": "completed"
    },
    "tags": []
   },
   "outputs": [],
   "source": [
    "def price_outlier_treatment(data):\n",
    "    df_output = pd.DataFrame()\n",
    "    for key,sub_df in data.groupby('location'):\n",
    "        # calculating mean and std-deviation of price_per_sqft for each location\n",
    "        mean = np.mean(sub_df.price_per_sqft)\n",
    "        sd = np.std(sub_df.price_per_sqft)\n",
    "        # filtering the observations lying between 1.5 std-devs.\n",
    "        filtered_df=sub_df[(sub_df.price_per_sqft >= (mean-1.5*sd)) & (sub_df.price_per_sqft <= (mean+1.5*sd))]\n",
    "        df_output = pd.concat([df_output,filtered_df],ignore_index=True)\n",
    "    return df_output"
   ]
  },
  {
   "cell_type": "code",
   "execution_count": 37,
   "id": "91505e6d",
   "metadata": {
    "execution": {
     "iopub.execute_input": "2023-02-12T05:01:19.946677Z",
     "iopub.status.busy": "2023-02-12T05:01:19.945748Z",
     "iopub.status.idle": "2023-02-12T05:01:20.516010Z",
     "shell.execute_reply": "2023-02-12T05:01:20.514282Z"
    },
    "papermill": {
     "duration": 0.59902,
     "end_time": "2023-02-12T05:01:20.519149",
     "exception": false,
     "start_time": "2023-02-12T05:01:19.920129",
     "status": "completed"
    },
    "tags": []
   },
   "outputs": [
    {
     "data": {
      "text/html": [
       "<div>\n",
       "<style scoped>\n",
       "    .dataframe tbody tr th:only-of-type {\n",
       "        vertical-align: middle;\n",
       "    }\n",
       "\n",
       "    .dataframe tbody tr th {\n",
       "        vertical-align: top;\n",
       "    }\n",
       "\n",
       "    .dataframe thead th {\n",
       "        text-align: right;\n",
       "    }\n",
       "</style>\n",
       "<table border=\"1\" class=\"dataframe\">\n",
       "  <thead>\n",
       "    <tr style=\"text-align: right;\">\n",
       "      <th></th>\n",
       "      <th>count</th>\n",
       "      <th>mean</th>\n",
       "      <th>std</th>\n",
       "      <th>min</th>\n",
       "      <th>25%</th>\n",
       "      <th>50%</th>\n",
       "      <th>75%</th>\n",
       "      <th>max</th>\n",
       "    </tr>\n",
       "  </thead>\n",
       "  <tbody>\n",
       "    <tr>\n",
       "      <th>total_sqft</th>\n",
       "      <td>11180.0</td>\n",
       "      <td>1483.200461</td>\n",
       "      <td>1039.483315</td>\n",
       "      <td>350.0</td>\n",
       "      <td>1100.00000</td>\n",
       "      <td>1260.0</td>\n",
       "      <td>1623.0</td>\n",
       "      <td>52272.0</td>\n",
       "    </tr>\n",
       "    <tr>\n",
       "      <th>bath</th>\n",
       "      <td>11180.0</td>\n",
       "      <td>2.541592</td>\n",
       "      <td>1.108226</td>\n",
       "      <td>1.0</td>\n",
       "      <td>2.00000</td>\n",
       "      <td>2.0</td>\n",
       "      <td>3.0</td>\n",
       "      <td>27.0</td>\n",
       "    </tr>\n",
       "    <tr>\n",
       "      <th>balcony</th>\n",
       "      <td>11180.0</td>\n",
       "      <td>1.579428</td>\n",
       "      <td>0.814841</td>\n",
       "      <td>0.0</td>\n",
       "      <td>1.00000</td>\n",
       "      <td>2.0</td>\n",
       "      <td>2.0</td>\n",
       "      <td>3.0</td>\n",
       "    </tr>\n",
       "    <tr>\n",
       "      <th>price</th>\n",
       "      <td>11180.0</td>\n",
       "      <td>93.524602</td>\n",
       "      <td>91.540717</td>\n",
       "      <td>9.0</td>\n",
       "      <td>48.90375</td>\n",
       "      <td>68.0</td>\n",
       "      <td>104.0</td>\n",
       "      <td>2200.0</td>\n",
       "    </tr>\n",
       "    <tr>\n",
       "      <th>bhk</th>\n",
       "      <td>11180.0</td>\n",
       "      <td>2.658050</td>\n",
       "      <td>1.070789</td>\n",
       "      <td>1.0</td>\n",
       "      <td>2.00000</td>\n",
       "      <td>2.0</td>\n",
       "      <td>3.0</td>\n",
       "      <td>27.0</td>\n",
       "    </tr>\n",
       "    <tr>\n",
       "      <th>price_per_sqft</th>\n",
       "      <td>11180.0</td>\n",
       "      <td>5996.581485</td>\n",
       "      <td>2812.935776</td>\n",
       "      <td>268.0</td>\n",
       "      <td>4229.50000</td>\n",
       "      <td>5268.0</td>\n",
       "      <td>6767.0</td>\n",
       "      <td>24000.0</td>\n",
       "    </tr>\n",
       "  </tbody>\n",
       "</table>\n",
       "</div>"
      ],
      "text/plain": [
       "                  count         mean          std    min         25%     50%  \\\n",
       "total_sqft      11180.0  1483.200461  1039.483315  350.0  1100.00000  1260.0   \n",
       "bath            11180.0     2.541592     1.108226    1.0     2.00000     2.0   \n",
       "balcony         11180.0     1.579428     0.814841    0.0     1.00000     2.0   \n",
       "price           11180.0    93.524602    91.540717    9.0    48.90375    68.0   \n",
       "bhk             11180.0     2.658050     1.070789    1.0     2.00000     2.0   \n",
       "price_per_sqft  11180.0  5996.581485  2812.935776  268.0  4229.50000  5268.0   \n",
       "\n",
       "                   75%      max  \n",
       "total_sqft      1623.0  52272.0  \n",
       "bath               3.0     27.0  \n",
       "balcony            2.0      3.0  \n",
       "price            104.0   2200.0  \n",
       "bhk                3.0     27.0  \n",
       "price_per_sqft  6767.0  24000.0  "
      ]
     },
     "execution_count": 37,
     "metadata": {},
     "output_type": "execute_result"
    }
   ],
   "source": [
    "# Treating the outliers in the data by using the price_outlier_treatment() Function\n",
    "df=price_outlier_treatment(df)\n",
    "df.describe().T\n",
    "\n",
    "# We Observe that Price/sqft has significantly reduced from 2300000 to 24000 (check describe table)\n",
    "# We also observe that the minimum value for price/sqft is still quite low (268), we can reduce the std.dev (sd)\n",
    "#  value to 1 to further refine the range of price/sqft."
   ]
  },
  {
   "cell_type": "code",
   "execution_count": 38,
   "id": "87258362",
   "metadata": {
    "execution": {
     "iopub.execute_input": "2023-02-12T05:01:20.570650Z",
     "iopub.status.busy": "2023-02-12T05:01:20.570132Z",
     "iopub.status.idle": "2023-02-12T05:01:20.753129Z",
     "shell.execute_reply": "2023-02-12T05:01:20.751724Z"
    },
    "papermill": {
     "duration": 0.212686,
     "end_time": "2023-02-12T05:01:20.755790",
     "exception": false,
     "start_time": "2023-02-12T05:01:20.543104",
     "status": "completed"
    },
    "tags": []
   },
   "outputs": [
    {
     "name": "stdout",
     "output_type": "stream",
     "text": [
      "PRICE/SQFT after Outlier Treatment  \n",
      " 8930       268.0\n",
      "9624       417.0\n",
      "10364      730.0\n",
      "8731       730.0\n",
      "11034      912.0\n",
      "          ...   \n",
      "42       22500.0\n",
      "5298     22667.0\n",
      "5285     23214.0\n",
      "1802     23719.0\n",
      "1811     24000.0\n",
      "Name: price_per_sqft, Length: 11180, dtype: float64\n"
     ]
    },
    {
     "data": {
      "text/plain": [
       "<AxesSubplot:xlabel='price_per_sqft'>"
      ]
     },
     "metadata": {},
     "output_type": "display_data"
    },
    {
     "data": {
      "image/png": "[encoded data removed]",
      "text/plain": [
       "<Figure size 432x288 with 1 Axes>"
      ]
     },
     "metadata": {
      "needs_background": "light"
     },
     "output_type": "display_data"
    }
   ],
   "source": [
    "print(\"PRICE/SQFT after Outlier Treatment \",'\\n',df.price_per_sqft.sort_values());\n",
    "display(sns.boxplot(df['price_per_sqft']));"
   ]
  },
  {
   "cell_type": "code",
   "execution_count": 39,
   "id": "c176d51f",
   "metadata": {
    "execution": {
     "iopub.execute_input": "2023-02-12T05:01:20.807901Z",
     "iopub.status.busy": "2023-02-12T05:01:20.807049Z",
     "iopub.status.idle": "2023-02-12T05:01:20.814994Z",
     "shell.execute_reply": "2023-02-12T05:01:20.813766Z"
    },
    "papermill": {
     "duration": 0.036727,
     "end_time": "2023-02-12T05:01:20.817592",
     "exception": false,
     "start_time": "2023-02-12T05:01:20.780865",
     "status": "completed"
    },
    "tags": []
   },
   "outputs": [
    {
     "data": {
      "text/plain": [
       "(11180, 10)"
      ]
     },
     "execution_count": 39,
     "metadata": {},
     "output_type": "execute_result"
    }
   ],
   "source": [
    "df.shape"
   ]
  },
  {
   "cell_type": "code",
   "execution_count": 40,
   "id": "f816ade2",
   "metadata": {
    "execution": {
     "iopub.execute_input": "2023-02-12T05:01:20.875826Z",
     "iopub.status.busy": "2023-02-12T05:01:20.874152Z",
     "iopub.status.idle": "2023-02-12T05:01:21.082318Z",
     "shell.execute_reply": "2023-02-12T05:01:21.080786Z"
    },
    "papermill": {
     "duration": 0.240884,
     "end_time": "2023-02-12T05:01:21.085411",
     "exception": false,
     "start_time": "2023-02-12T05:01:20.844527",
     "status": "completed"
    },
    "tags": []
   },
   "outputs": [
    {
     "name": "stdout",
     "output_type": "stream",
     "text": [
      "BHK \n",
      " 9027      1\n",
      "9235      1\n",
      "952       1\n",
      "9209      1\n",
      "5282      1\n",
      "         ..\n",
      "9335     11\n",
      "8645     11\n",
      "10506    13\n",
      "9539     14\n",
      "8900     27\n",
      "Name: bhk, Length: 11180, dtype: int64\n"
     ]
    },
    {
     "data": {
      "text/plain": [
       "<AxesSubplot:xlabel='bhk'>"
      ]
     },
     "metadata": {},
     "output_type": "display_data"
    },
    {
     "data": {
      "image/png": "[encoded data removed]",
      "text/plain": [
       "<Figure size 432x288 with 1 Axes>"
      ]
     },
     "metadata": {
      "needs_background": "light"
     },
     "output_type": "display_data"
    }
   ],
   "source": [
    "#3. BHK : We observe that BHK column also have some outliers with range 1 to 27 but having 3rd Quartile as 3 only.\n",
    "# We will remove the Outliers by \n",
    "\n",
    "print(\"BHK\",\"\\n\",df.bhk.sort_values());\n",
    "display(sns.boxplot(df['bhk']));"
   ]
  },
  {
   "cell_type": "code",
   "execution_count": 41,
   "id": "004a2799",
   "metadata": {
    "execution": {
     "iopub.execute_input": "2023-02-12T05:01:21.139423Z",
     "iopub.status.busy": "2023-02-12T05:01:21.138878Z",
     "iopub.status.idle": "2023-02-12T05:01:21.148682Z",
     "shell.execute_reply": "2023-02-12T05:01:21.147571Z"
    },
    "papermill": {
     "duration": 0.039577,
     "end_time": "2023-02-12T05:01:21.151039",
     "exception": false,
     "start_time": "2023-02-12T05:01:21.111462",
     "status": "completed"
    },
    "tags": []
   },
   "outputs": [],
   "source": [
    "def bhk_outlier_treatment(data):\n",
    "    # creating an array that will store the indices that we want to exclude\n",
    "    exclude_indices = np.array([])\n",
    "    # Doing groupby on location to get location and location-subGroup for each location\n",
    "    for location,location_df in data.groupby('location'):\n",
    "        #Creating a dictionary to store bhk stats\n",
    "        bhk_stats = {}\n",
    "        \n",
    "        #For each location-subGroup, we do groupby on bhk and get bhk and bhk-subGroup for each location-subGroup\n",
    "        for bhk,bhk_df in location_df.groupby('bhk'):\n",
    "            #storing mean,std-dev and count in bhk_stats\n",
    "            bhk_stats[bhk] ={\n",
    "                'mean':np.mean(bhk_df.price_per_sqft),\n",
    "                'sd':np.std(bhk_df.price_per_sqft),\n",
    "                'count':bhk_df.shape[0]\n",
    "        }\n",
    "        # To check the raw sub-Grouped data use below print command in the next cell code\n",
    "        #print(location,bhk_df)       \n",
    "        # Comparing price/sqft of any bhk-subGroup with lower bhk mean and excluding it in case mean is higher..\n",
    "        for bhk,bhk_df in location_df.groupby('bhk'):\n",
    "            stats = bhk_stats.get(bhk-1)\n",
    "            if stats and stats['count']>5:\n",
    "                # Appending exclude_indices as per the excluded bhk after above computation\n",
    "                exclude_indices = np.append(exclude_indices, bhk_df[bhk_df.price_per_sqft < (stats['mean'])].index.values)\n",
    "    return df.drop(exclude_indices, axis='index')"
   ]
  },
  {
   "cell_type": "code",
   "execution_count": 42,
   "id": "63961d7e",
   "metadata": {
    "execution": {
     "iopub.execute_input": "2023-02-12T05:01:21.203994Z",
     "iopub.status.busy": "2023-02-12T05:01:21.203452Z",
     "iopub.status.idle": "2023-02-12T05:01:22.083900Z",
     "shell.execute_reply": "2023-02-12T05:01:22.082412Z"
    },
    "papermill": {
     "duration": 0.91045,
     "end_time": "2023-02-12T05:01:22.087597",
     "exception": false,
     "start_time": "2023-02-12T05:01:21.177147",
     "status": "completed"
    },
    "tags": []
   },
   "outputs": [],
   "source": [
    "\n",
    "## CHECKING the raw sub-grouped data (Temp output ... only 1 time)\n",
    "## The data shows: For each location - A dictionary with bhk stats for each bhk type in the location.\n",
    "##  observe : The lower bound of a (n)BHK will be mean of (n-1)BHK & \n",
    "#            Hence here we will keep the row if lowerbound(n)BHK > mean(n-1)BHK\n",
    "\n",
    "df=bhk_outlier_treatment(df)"
   ]
  },
  {
   "cell_type": "code",
   "execution_count": 43,
   "id": "5ed79f97",
   "metadata": {
    "execution": {
     "iopub.execute_input": "2023-02-12T05:01:22.142288Z",
     "iopub.status.busy": "2023-02-12T05:01:22.141768Z",
     "iopub.status.idle": "2023-02-12T05:01:22.962975Z",
     "shell.execute_reply": "2023-02-12T05:01:22.961329Z"
    },
    "papermill": {
     "duration": 0.851799,
     "end_time": "2023-02-12T05:01:22.966327",
     "exception": false,
     "start_time": "2023-02-12T05:01:22.114528",
     "status": "completed"
    },
    "tags": []
   },
   "outputs": [],
   "source": [
    "# Treating the outliers in the data by using the bhk_outlier_treatment() Function\n",
    "df=bhk_outlier_treatment(df)"
   ]
  },
  {
   "cell_type": "code",
   "execution_count": 44,
   "id": "f8664464",
   "metadata": {
    "execution": {
     "iopub.execute_input": "2023-02-12T05:01:23.021950Z",
     "iopub.status.busy": "2023-02-12T05:01:23.021397Z",
     "iopub.status.idle": "2023-02-12T05:01:23.029461Z",
     "shell.execute_reply": "2023-02-12T05:01:23.028200Z"
    },
    "papermill": {
     "duration": 0.040668,
     "end_time": "2023-02-12T05:01:23.032362",
     "exception": false,
     "start_time": "2023-02-12T05:01:22.991694",
     "status": "completed"
    },
    "tags": []
   },
   "outputs": [
    {
     "data": {
      "text/plain": [
       "(7223, 10)"
      ]
     },
     "execution_count": 44,
     "metadata": {},
     "output_type": "execute_result"
    }
   ],
   "source": [
    "df.shape"
   ]
  },
  {
   "cell_type": "code",
   "execution_count": 45,
   "id": "b4dc6d50",
   "metadata": {
    "execution": {
     "iopub.execute_input": "2023-02-12T05:01:23.086107Z",
     "iopub.status.busy": "2023-02-12T05:01:23.085546Z",
     "iopub.status.idle": "2023-02-12T05:01:23.106434Z",
     "shell.execute_reply": "2023-02-12T05:01:23.105202Z"
    },
    "papermill": {
     "duration": 0.050735,
     "end_time": "2023-02-12T05:01:23.109064",
     "exception": false,
     "start_time": "2023-02-12T05:01:23.058329",
     "status": "completed"
    },
    "tags": []
   },
   "outputs": [
    {
     "data": {
      "text/html": [
       "<div>\n",
       "<style scoped>\n",
       "    .dataframe tbody tr th:only-of-type {\n",
       "        vertical-align: middle;\n",
       "    }\n",
       "\n",
       "    .dataframe tbody tr th {\n",
       "        vertical-align: top;\n",
       "    }\n",
       "\n",
       "    .dataframe thead th {\n",
       "        text-align: right;\n",
       "    }\n",
       "</style>\n",
       "<table border=\"1\" class=\"dataframe\">\n",
       "  <thead>\n",
       "    <tr style=\"text-align: right;\">\n",
       "      <th></th>\n",
       "      <th>area_type</th>\n",
       "      <th>availability</th>\n",
       "      <th>location</th>\n",
       "      <th>size</th>\n",
       "      <th>total_sqft</th>\n",
       "      <th>bath</th>\n",
       "      <th>balcony</th>\n",
       "      <th>price</th>\n",
       "      <th>bhk</th>\n",
       "      <th>price_per_sqft</th>\n",
       "    </tr>\n",
       "  </thead>\n",
       "  <tbody>\n",
       "    <tr>\n",
       "      <th>0</th>\n",
       "      <td>Super built-up  Area</td>\n",
       "      <td>20-May</td>\n",
       "      <td>1st Block Jayanagar</td>\n",
       "      <td>4 BHK</td>\n",
       "      <td>2850.0</td>\n",
       "      <td>4.0</td>\n",
       "      <td>1.0</td>\n",
       "      <td>428.0</td>\n",
       "      <td>4</td>\n",
       "      <td>15018.0</td>\n",
       "    </tr>\n",
       "    <tr>\n",
       "      <th>1</th>\n",
       "      <td>Super built-up  Area</td>\n",
       "      <td>18-Jun</td>\n",
       "      <td>1st Block Jayanagar</td>\n",
       "      <td>3 BHK</td>\n",
       "      <td>1630.0</td>\n",
       "      <td>3.0</td>\n",
       "      <td>2.0</td>\n",
       "      <td>194.0</td>\n",
       "      <td>3</td>\n",
       "      <td>11902.0</td>\n",
       "    </tr>\n",
       "    <tr>\n",
       "      <th>2</th>\n",
       "      <td>Super built-up  Area</td>\n",
       "      <td>17-Dec</td>\n",
       "      <td>1st Block Jayanagar</td>\n",
       "      <td>6 BHK</td>\n",
       "      <td>1200.0</td>\n",
       "      <td>6.0</td>\n",
       "      <td>2.0</td>\n",
       "      <td>125.0</td>\n",
       "      <td>6</td>\n",
       "      <td>10417.0</td>\n",
       "    </tr>\n",
       "    <tr>\n",
       "      <th>3</th>\n",
       "      <td>Super built-up  Area</td>\n",
       "      <td>Ready To Move</td>\n",
       "      <td>1st Block Jayanagar</td>\n",
       "      <td>3 BHK</td>\n",
       "      <td>1875.0</td>\n",
       "      <td>2.0</td>\n",
       "      <td>3.0</td>\n",
       "      <td>235.0</td>\n",
       "      <td>3</td>\n",
       "      <td>12533.0</td>\n",
       "    </tr>\n",
       "    <tr>\n",
       "      <th>4</th>\n",
       "      <td>Super built-up  Area</td>\n",
       "      <td>Ready To Move</td>\n",
       "      <td>1st Block Jayanagar</td>\n",
       "      <td>2 BHK</td>\n",
       "      <td>1000.0</td>\n",
       "      <td>3.0</td>\n",
       "      <td>2.0</td>\n",
       "      <td>60.0</td>\n",
       "      <td>2</td>\n",
       "      <td>6000.0</td>\n",
       "    </tr>\n",
       "  </tbody>\n",
       "</table>\n",
       "</div>"
      ],
      "text/plain": [
       "              area_type   availability             location   size  \\\n",
       "0  Super built-up  Area         20-May  1st Block Jayanagar  4 BHK   \n",
       "1  Super built-up  Area         18-Jun  1st Block Jayanagar  3 BHK   \n",
       "2  Super built-up  Area         17-Dec  1st Block Jayanagar  6 BHK   \n",
       "3  Super built-up  Area  Ready To Move  1st Block Jayanagar  3 BHK   \n",
       "4  Super built-up  Area  Ready To Move  1st Block Jayanagar  2 BHK   \n",
       "\n",
       "   total_sqft  bath  balcony  price  bhk  price_per_sqft  \n",
       "0      2850.0   4.0      1.0  428.0    4         15018.0  \n",
       "1      1630.0   3.0      2.0  194.0    3         11902.0  \n",
       "2      1200.0   6.0      2.0  125.0    6         10417.0  \n",
       "3      1875.0   2.0      3.0  235.0    3         12533.0  \n",
       "4      1000.0   3.0      2.0   60.0    2          6000.0  "
      ]
     },
     "execution_count": 45,
     "metadata": {},
     "output_type": "execute_result"
    }
   ],
   "source": [
    "df.head()"
   ]
  },
  {
   "cell_type": "code",
   "execution_count": 46,
   "id": "48ed4477",
   "metadata": {
    "execution": {
     "iopub.execute_input": "2023-02-12T05:01:23.162830Z",
     "iopub.status.busy": "2023-02-12T05:01:23.161638Z",
     "iopub.status.idle": "2023-02-12T05:01:23.179978Z",
     "shell.execute_reply": "2023-02-12T05:01:23.178589Z"
    },
    "papermill": {
     "duration": 0.048745,
     "end_time": "2023-02-12T05:01:23.183087",
     "exception": false,
     "start_time": "2023-02-12T05:01:23.134342",
     "status": "completed"
    },
    "scrolled": true,
    "tags": []
   },
   "outputs": [
    {
     "data": {
      "text/html": [
       "<div>\n",
       "<style scoped>\n",
       "    .dataframe tbody tr th:only-of-type {\n",
       "        vertical-align: middle;\n",
       "    }\n",
       "\n",
       "    .dataframe tbody tr th {\n",
       "        vertical-align: top;\n",
       "    }\n",
       "\n",
       "    .dataframe thead th {\n",
       "        text-align: right;\n",
       "    }\n",
       "</style>\n",
       "<table border=\"1\" class=\"dataframe\">\n",
       "  <thead>\n",
       "    <tr style=\"text-align: right;\">\n",
       "      <th></th>\n",
       "      <th>total_sqft</th>\n",
       "      <th>bath</th>\n",
       "      <th>balcony</th>\n",
       "      <th>price</th>\n",
       "      <th>bhk</th>\n",
       "      <th>price_per_sqft</th>\n",
       "    </tr>\n",
       "  </thead>\n",
       "  <tbody>\n",
       "    <tr>\n",
       "      <th>total_sqft</th>\n",
       "      <td>1.000000</td>\n",
       "      <td>0.620668</td>\n",
       "      <td>0.252047</td>\n",
       "      <td>0.805945</td>\n",
       "      <td>0.555838</td>\n",
       "      <td>0.289007</td>\n",
       "    </tr>\n",
       "    <tr>\n",
       "      <th>bath</th>\n",
       "      <td>0.620668</td>\n",
       "      <td>1.000000</td>\n",
       "      <td>0.240933</td>\n",
       "      <td>0.526718</td>\n",
       "      <td>0.897292</td>\n",
       "      <td>0.409690</td>\n",
       "    </tr>\n",
       "    <tr>\n",
       "      <th>balcony</th>\n",
       "      <td>0.252047</td>\n",
       "      <td>0.240933</td>\n",
       "      <td>1.000000</td>\n",
       "      <td>0.187130</td>\n",
       "      <td>0.221023</td>\n",
       "      <td>0.074785</td>\n",
       "    </tr>\n",
       "    <tr>\n",
       "      <th>price</th>\n",
       "      <td>0.805945</td>\n",
       "      <td>0.526718</td>\n",
       "      <td>0.187130</td>\n",
       "      <td>1.000000</td>\n",
       "      <td>0.483157</td>\n",
       "      <td>0.673064</td>\n",
       "    </tr>\n",
       "    <tr>\n",
       "      <th>bhk</th>\n",
       "      <td>0.555838</td>\n",
       "      <td>0.897292</td>\n",
       "      <td>0.221023</td>\n",
       "      <td>0.483157</td>\n",
       "      <td>1.000000</td>\n",
       "      <td>0.428036</td>\n",
       "    </tr>\n",
       "    <tr>\n",
       "      <th>price_per_sqft</th>\n",
       "      <td>0.289007</td>\n",
       "      <td>0.409690</td>\n",
       "      <td>0.074785</td>\n",
       "      <td>0.673064</td>\n",
       "      <td>0.428036</td>\n",
       "      <td>1.000000</td>\n",
       "    </tr>\n",
       "  </tbody>\n",
       "</table>\n",
       "</div>"
      ],
      "text/plain": [
       "                total_sqft      bath   balcony     price       bhk  \\\n",
       "total_sqft        1.000000  0.620668  0.252047  0.805945  0.555838   \n",
       "bath              0.620668  1.000000  0.240933  0.526718  0.897292   \n",
       "balcony           0.252047  0.240933  1.000000  0.187130  0.221023   \n",
       "price             0.805945  0.526718  0.187130  1.000000  0.483157   \n",
       "bhk               0.555838  0.897292  0.221023  0.483157  1.000000   \n",
       "price_per_sqft    0.289007  0.409690  0.074785  0.673064  0.428036   \n",
       "\n",
       "                price_per_sqft  \n",
       "total_sqft            0.289007  \n",
       "bath                  0.409690  \n",
       "balcony               0.074785  \n",
       "price                 0.673064  \n",
       "bhk                   0.428036  \n",
       "price_per_sqft        1.000000  "
      ]
     },
     "execution_count": 46,
     "metadata": {},
     "output_type": "execute_result"
    }
   ],
   "source": [
    "df.corr()"
   ]
  },
  {
   "cell_type": "code",
   "execution_count": 47,
   "id": "fc437464",
   "metadata": {
    "execution": {
     "iopub.execute_input": "2023-02-12T05:01:23.239643Z",
     "iopub.status.busy": "2023-02-12T05:01:23.239092Z",
     "iopub.status.idle": "2023-02-12T05:01:23.247538Z",
     "shell.execute_reply": "2023-02-12T05:01:23.245936Z"
    },
    "papermill": {
     "duration": 0.039398,
     "end_time": "2023-02-12T05:01:23.250126",
     "exception": false,
     "start_time": "2023-02-12T05:01:23.210728",
     "status": "completed"
    },
    "tags": []
   },
   "outputs": [],
   "source": [
    "# Removing the unwanted data :\n",
    "#1. Area type, Size, price_per_sqft to be dropped as they dont provide any additional info (now).\n",
    "\n",
    "df.drop(['area_type','size','price_per_sqft','balcony'],axis=1,inplace=True)"
   ]
  },
  {
   "cell_type": "code",
   "execution_count": 48,
   "id": "f02ec32c",
   "metadata": {
    "execution": {
     "iopub.execute_input": "2023-02-12T05:01:23.303772Z",
     "iopub.status.busy": "2023-02-12T05:01:23.302908Z",
     "iopub.status.idle": "2023-02-12T05:01:23.310014Z",
     "shell.execute_reply": "2023-02-12T05:01:23.308905Z"
    },
    "papermill": {
     "duration": 0.036833,
     "end_time": "2023-02-12T05:01:23.312543",
     "exception": false,
     "start_time": "2023-02-12T05:01:23.275710",
     "status": "completed"
    },
    "tags": []
   },
   "outputs": [
    {
     "data": {
      "text/plain": [
       "(7223, 6)"
      ]
     },
     "execution_count": 48,
     "metadata": {},
     "output_type": "execute_result"
    }
   ],
   "source": [
    "df.shape"
   ]
  },
  {
   "cell_type": "code",
   "execution_count": 49,
   "id": "18ec2ef0",
   "metadata": {
    "execution": {
     "iopub.execute_input": "2023-02-12T05:01:23.367895Z",
     "iopub.status.busy": "2023-02-12T05:01:23.367059Z",
     "iopub.status.idle": "2023-02-12T05:01:23.373995Z",
     "shell.execute_reply": "2023-02-12T05:01:23.372967Z"
    },
    "papermill": {
     "duration": 0.03859,
     "end_time": "2023-02-12T05:01:23.376982",
     "exception": false,
     "start_time": "2023-02-12T05:01:23.338392",
     "status": "completed"
    },
    "tags": []
   },
   "outputs": [],
   "source": [
    "df.drop(['availability'],axis=1,inplace=True)"
   ]
  },
  {
   "cell_type": "code",
   "execution_count": 50,
   "id": "2cbe7a2f",
   "metadata": {
    "execution": {
     "iopub.execute_input": "2023-02-12T05:01:23.432304Z",
     "iopub.status.busy": "2023-02-12T05:01:23.431195Z",
     "iopub.status.idle": "2023-02-12T05:01:23.447415Z",
     "shell.execute_reply": "2023-02-12T05:01:23.446373Z"
    },
    "papermill": {
     "duration": 0.047811,
     "end_time": "2023-02-12T05:01:23.450232",
     "exception": false,
     "start_time": "2023-02-12T05:01:23.402421",
     "status": "completed"
    },
    "scrolled": true,
    "tags": []
   },
   "outputs": [
    {
     "data": {
      "text/html": [
       "<div>\n",
       "<style scoped>\n",
       "    .dataframe tbody tr th:only-of-type {\n",
       "        vertical-align: middle;\n",
       "    }\n",
       "\n",
       "    .dataframe tbody tr th {\n",
       "        vertical-align: top;\n",
       "    }\n",
       "\n",
       "    .dataframe thead th {\n",
       "        text-align: right;\n",
       "    }\n",
       "</style>\n",
       "<table border=\"1\" class=\"dataframe\">\n",
       "  <thead>\n",
       "    <tr style=\"text-align: right;\">\n",
       "      <th></th>\n",
       "      <th>location</th>\n",
       "      <th>total_sqft</th>\n",
       "      <th>bath</th>\n",
       "      <th>price</th>\n",
       "      <th>bhk</th>\n",
       "    </tr>\n",
       "  </thead>\n",
       "  <tbody>\n",
       "    <tr>\n",
       "      <th>0</th>\n",
       "      <td>1st Block Jayanagar</td>\n",
       "      <td>2850.0</td>\n",
       "      <td>4.0</td>\n",
       "      <td>428.0</td>\n",
       "      <td>4</td>\n",
       "    </tr>\n",
       "    <tr>\n",
       "      <th>1</th>\n",
       "      <td>1st Block Jayanagar</td>\n",
       "      <td>1630.0</td>\n",
       "      <td>3.0</td>\n",
       "      <td>194.0</td>\n",
       "      <td>3</td>\n",
       "    </tr>\n",
       "    <tr>\n",
       "      <th>2</th>\n",
       "      <td>1st Block Jayanagar</td>\n",
       "      <td>1200.0</td>\n",
       "      <td>6.0</td>\n",
       "      <td>125.0</td>\n",
       "      <td>6</td>\n",
       "    </tr>\n",
       "    <tr>\n",
       "      <th>3</th>\n",
       "      <td>1st Block Jayanagar</td>\n",
       "      <td>1875.0</td>\n",
       "      <td>2.0</td>\n",
       "      <td>235.0</td>\n",
       "      <td>3</td>\n",
       "    </tr>\n",
       "    <tr>\n",
       "      <th>4</th>\n",
       "      <td>1st Block Jayanagar</td>\n",
       "      <td>1000.0</td>\n",
       "      <td>3.0</td>\n",
       "      <td>60.0</td>\n",
       "      <td>2</td>\n",
       "    </tr>\n",
       "  </tbody>\n",
       "</table>\n",
       "</div>"
      ],
      "text/plain": [
       "              location  total_sqft  bath  price  bhk\n",
       "0  1st Block Jayanagar      2850.0   4.0  428.0    4\n",
       "1  1st Block Jayanagar      1630.0   3.0  194.0    3\n",
       "2  1st Block Jayanagar      1200.0   6.0  125.0    6\n",
       "3  1st Block Jayanagar      1875.0   2.0  235.0    3\n",
       "4  1st Block Jayanagar      1000.0   3.0   60.0    2"
      ]
     },
     "execution_count": 50,
     "metadata": {},
     "output_type": "execute_result"
    }
   ],
   "source": [
    "df.head()"
   ]
  },
  {
   "cell_type": "code",
   "execution_count": 51,
   "id": "c8f6e5e8",
   "metadata": {
    "execution": {
     "iopub.execute_input": "2023-02-12T05:01:23.506813Z",
     "iopub.status.busy": "2023-02-12T05:01:23.505396Z",
     "iopub.status.idle": "2023-02-12T05:01:23.514702Z",
     "shell.execute_reply": "2023-02-12T05:01:23.513224Z"
    },
    "papermill": {
     "duration": 0.041284,
     "end_time": "2023-02-12T05:01:23.517941",
     "exception": false,
     "start_time": "2023-02-12T05:01:23.476657",
     "status": "completed"
    },
    "scrolled": true,
    "tags": []
   },
   "outputs": [
    {
     "data": {
      "text/plain": [
       "(7223, 5)"
      ]
     },
     "execution_count": 51,
     "metadata": {},
     "output_type": "execute_result"
    }
   ],
   "source": [
    "df.shape"
   ]
  },
  {
   "cell_type": "code",
   "execution_count": 52,
   "id": "410f164a",
   "metadata": {
    "execution": {
     "iopub.execute_input": "2023-02-12T05:01:23.572390Z",
     "iopub.status.busy": "2023-02-12T05:01:23.571826Z",
     "iopub.status.idle": "2023-02-12T05:01:23.608844Z",
     "shell.execute_reply": "2023-02-12T05:01:23.607323Z"
    },
    "papermill": {
     "duration": 0.068195,
     "end_time": "2023-02-12T05:01:23.612170",
     "exception": false,
     "start_time": "2023-02-12T05:01:23.543975",
     "status": "completed"
    },
    "tags": []
   },
   "outputs": [],
   "source": [
    "# Saving Cleaned data file in csv format\n",
    "df.to_csv(\"m4_1_house_price_data_cleaned.csv\")"
   ]
  },
  {
   "cell_type": "markdown",
   "id": "f6a08258",
   "metadata": {
    "papermill": {
     "duration": 0.025437,
     "end_time": "2023-02-12T05:01:23.664042",
     "exception": false,
     "start_time": "2023-02-12T05:01:23.638605",
     "status": "completed"
    },
    "tags": []
   },
   "source": [
    "### MODELING"
   ]
  },
  {
   "cell_type": "code",
   "execution_count": 53,
   "id": "8fe7e94a",
   "metadata": {
    "execution": {
     "iopub.execute_input": "2023-02-12T05:01:23.717412Z",
     "iopub.status.busy": "2023-02-12T05:01:23.716806Z",
     "iopub.status.idle": "2023-02-12T05:01:23.725345Z",
     "shell.execute_reply": "2023-02-12T05:01:23.724053Z"
    },
    "papermill": {
     "duration": 0.038839,
     "end_time": "2023-02-12T05:01:23.728127",
     "exception": false,
     "start_time": "2023-02-12T05:01:23.689288",
     "status": "completed"
    },
    "tags": []
   },
   "outputs": [],
   "source": [
    "# Spliting the Dataset\n",
    "X = df.drop(columns=['price'])\n",
    "y = df['price']"
   ]
  },
  {
   "cell_type": "code",
   "execution_count": 54,
   "id": "11f8616f",
   "metadata": {
    "execution": {
     "iopub.execute_input": "2023-02-12T05:01:23.782698Z",
     "iopub.status.busy": "2023-02-12T05:01:23.781384Z",
     "iopub.status.idle": "2023-02-12T05:01:23.789519Z",
     "shell.execute_reply": "2023-02-12T05:01:23.788183Z"
    },
    "papermill": {
     "duration": 0.037945,
     "end_time": "2023-02-12T05:01:23.791860",
     "exception": false,
     "start_time": "2023-02-12T05:01:23.753915",
     "status": "completed"
    },
    "tags": []
   },
   "outputs": [
    {
     "data": {
      "text/plain": [
       "(7223, 4)"
      ]
     },
     "execution_count": 54,
     "metadata": {},
     "output_type": "execute_result"
    }
   ],
   "source": [
    "X.shape"
   ]
  },
  {
   "cell_type": "code",
   "execution_count": 55,
   "id": "34075a72",
   "metadata": {
    "execution": {
     "iopub.execute_input": "2023-02-12T05:01:23.846667Z",
     "iopub.status.busy": "2023-02-12T05:01:23.846141Z",
     "iopub.status.idle": "2023-02-12T05:01:23.856365Z",
     "shell.execute_reply": "2023-02-12T05:01:23.854625Z"
    },
    "papermill": {
     "duration": 0.042165,
     "end_time": "2023-02-12T05:01:23.859603",
     "exception": false,
     "start_time": "2023-02-12T05:01:23.817438",
     "status": "completed"
    },
    "tags": []
   },
   "outputs": [],
   "source": [
    "# Test- Train Split\n",
    "X_train, X_test, y_train, y_test = train_test_split(X, y, test_size=0.20 , random_state=1)"
   ]
  },
  {
   "cell_type": "code",
   "execution_count": 56,
   "id": "58507cff",
   "metadata": {
    "execution": {
     "iopub.execute_input": "2023-02-12T05:01:23.914858Z",
     "iopub.status.busy": "2023-02-12T05:01:23.914324Z",
     "iopub.status.idle": "2023-02-12T05:01:23.924794Z",
     "shell.execute_reply": "2023-02-12T05:01:23.923250Z"
    },
    "papermill": {
     "duration": 0.042257,
     "end_time": "2023-02-12T05:01:23.927706",
     "exception": false,
     "start_time": "2023-02-12T05:01:23.885449",
     "status": "completed"
    },
    "tags": []
   },
   "outputs": [
    {
     "data": {
      "text/plain": [
       "(5778, 4)"
      ]
     },
     "metadata": {},
     "output_type": "display_data"
    },
    {
     "data": {
      "text/plain": [
       "(1445, 4)"
      ]
     },
     "metadata": {},
     "output_type": "display_data"
    }
   ],
   "source": [
    "display(X_train.shape)\n",
    "display(X_test.shape)"
   ]
  },
  {
   "cell_type": "code",
   "execution_count": 57,
   "id": "858215c0",
   "metadata": {
    "execution": {
     "iopub.execute_input": "2023-02-12T05:01:23.983247Z",
     "iopub.status.busy": "2023-02-12T05:01:23.982250Z",
     "iopub.status.idle": "2023-02-12T05:01:23.997537Z",
     "shell.execute_reply": "2023-02-12T05:01:23.996156Z"
    },
    "papermill": {
     "duration": 0.046695,
     "end_time": "2023-02-12T05:01:24.000399",
     "exception": false,
     "start_time": "2023-02-12T05:01:23.953704",
     "status": "completed"
    },
    "tags": []
   },
   "outputs": [
    {
     "data": {
      "text/html": [
       "<div>\n",
       "<style scoped>\n",
       "    .dataframe tbody tr th:only-of-type {\n",
       "        vertical-align: middle;\n",
       "    }\n",
       "\n",
       "    .dataframe tbody tr th {\n",
       "        vertical-align: top;\n",
       "    }\n",
       "\n",
       "    .dataframe thead th {\n",
       "        text-align: right;\n",
       "    }\n",
       "</style>\n",
       "<table border=\"1\" class=\"dataframe\">\n",
       "  <thead>\n",
       "    <tr style=\"text-align: right;\">\n",
       "      <th></th>\n",
       "      <th>location</th>\n",
       "      <th>total_sqft</th>\n",
       "      <th>bath</th>\n",
       "      <th>bhk</th>\n",
       "    </tr>\n",
       "  </thead>\n",
       "  <tbody>\n",
       "    <tr>\n",
       "      <th>381</th>\n",
       "      <td>Ambalipura</td>\n",
       "      <td>1230.0</td>\n",
       "      <td>2.0</td>\n",
       "      <td>2</td>\n",
       "    </tr>\n",
       "    <tr>\n",
       "      <th>3707</th>\n",
       "      <td>Indira Nagar</td>\n",
       "      <td>1400.0</td>\n",
       "      <td>2.0</td>\n",
       "      <td>2</td>\n",
       "    </tr>\n",
       "    <tr>\n",
       "      <th>2584</th>\n",
       "      <td>Gottigere</td>\n",
       "      <td>1200.0</td>\n",
       "      <td>2.0</td>\n",
       "      <td>2</td>\n",
       "    </tr>\n",
       "    <tr>\n",
       "      <th>385</th>\n",
       "      <td>Ambalipura</td>\n",
       "      <td>1625.0</td>\n",
       "      <td>2.0</td>\n",
       "      <td>3</td>\n",
       "    </tr>\n",
       "    <tr>\n",
       "      <th>5499</th>\n",
       "      <td>Mico Layout</td>\n",
       "      <td>1550.0</td>\n",
       "      <td>2.0</td>\n",
       "      <td>3</td>\n",
       "    </tr>\n",
       "  </tbody>\n",
       "</table>\n",
       "</div>"
      ],
      "text/plain": [
       "          location  total_sqft  bath  bhk\n",
       "381     Ambalipura      1230.0   2.0    2\n",
       "3707  Indira Nagar      1400.0   2.0    2\n",
       "2584     Gottigere      1200.0   2.0    2\n",
       "385     Ambalipura      1625.0   2.0    3\n",
       "5499   Mico Layout      1550.0   2.0    3"
      ]
     },
     "execution_count": 57,
     "metadata": {},
     "output_type": "execute_result"
    }
   ],
   "source": [
    "X_test.head()"
   ]
  },
  {
   "cell_type": "code",
   "execution_count": 58,
   "id": "54d664c1",
   "metadata": {
    "execution": {
     "iopub.execute_input": "2023-02-12T05:01:24.057701Z",
     "iopub.status.busy": "2023-02-12T05:01:24.056414Z",
     "iopub.status.idle": "2023-02-12T05:01:24.072419Z",
     "shell.execute_reply": "2023-02-12T05:01:24.071091Z"
    },
    "papermill": {
     "duration": 0.047911,
     "end_time": "2023-02-12T05:01:24.075955",
     "exception": false,
     "start_time": "2023-02-12T05:01:24.028044",
     "status": "completed"
    },
    "tags": []
   },
   "outputs": [
    {
     "name": "stdout",
     "output_type": "stream",
     "text": [
      "<class 'pandas.core.frame.DataFrame'>\n",
      "Int64Index: 7223 entries, 0 to 11177\n",
      "Data columns (total 5 columns):\n",
      " #   Column      Non-Null Count  Dtype  \n",
      "---  ------      --------------  -----  \n",
      " 0   location    7223 non-null   object \n",
      " 1   total_sqft  7223 non-null   float64\n",
      " 2   bath        7223 non-null   float64\n",
      " 3   price       7223 non-null   float64\n",
      " 4   bhk         7223 non-null   int64  \n",
      "dtypes: float64(3), int64(1), object(1)\n",
      "memory usage: 338.6+ KB\n"
     ]
    }
   ],
   "source": [
    "df.info()"
   ]
  },
  {
   "cell_type": "code",
   "execution_count": 59,
   "id": "881d6224",
   "metadata": {
    "execution": {
     "iopub.execute_input": "2023-02-12T05:01:24.137880Z",
     "iopub.status.busy": "2023-02-12T05:01:24.137344Z",
     "iopub.status.idle": "2023-02-12T05:01:24.145162Z",
     "shell.execute_reply": "2023-02-12T05:01:24.143856Z"
    },
    "papermill": {
     "duration": 0.044016,
     "end_time": "2023-02-12T05:01:24.147902",
     "exception": false,
     "start_time": "2023-02-12T05:01:24.103886",
     "status": "completed"
    },
    "tags": []
   },
   "outputs": [],
   "source": [
    "df['bhk'] = df ['bhk'].astype ('float64')"
   ]
  },
  {
   "cell_type": "code",
   "execution_count": 60,
   "id": "aa2093ca",
   "metadata": {
    "execution": {
     "iopub.execute_input": "2023-02-12T05:01:24.202906Z",
     "iopub.status.busy": "2023-02-12T05:01:24.202386Z",
     "iopub.status.idle": "2023-02-12T05:01:24.217803Z",
     "shell.execute_reply": "2023-02-12T05:01:24.216021Z"
    },
    "papermill": {
     "duration": 0.047203,
     "end_time": "2023-02-12T05:01:24.221587",
     "exception": false,
     "start_time": "2023-02-12T05:01:24.174384",
     "status": "completed"
    },
    "tags": []
   },
   "outputs": [
    {
     "name": "stdout",
     "output_type": "stream",
     "text": [
      "<class 'pandas.core.frame.DataFrame'>\n",
      "Int64Index: 7223 entries, 0 to 11177\n",
      "Data columns (total 5 columns):\n",
      " #   Column      Non-Null Count  Dtype  \n",
      "---  ------      --------------  -----  \n",
      " 0   location    7223 non-null   object \n",
      " 1   total_sqft  7223 non-null   float64\n",
      " 2   bath        7223 non-null   float64\n",
      " 3   price       7223 non-null   float64\n",
      " 4   bhk         7223 non-null   float64\n",
      "dtypes: float64(4), object(1)\n",
      "memory usage: 338.6+ KB\n"
     ]
    }
   ],
   "source": [
    "df.info()"
   ]
  },
  {
   "cell_type": "markdown",
   "id": "f556a662",
   "metadata": {
    "papermill": {
     "duration": 0.027171,
     "end_time": "2023-02-12T05:01:24.276202",
     "exception": false,
     "start_time": "2023-02-12T05:01:24.249031",
     "status": "completed"
    },
    "tags": []
   },
   "source": [
    "### Applying Linear Regression"
   ]
  },
  {
   "cell_type": "code",
   "execution_count": 61,
   "id": "1a5af25d",
   "metadata": {
    "execution": {
     "iopub.execute_input": "2023-02-12T05:01:24.332967Z",
     "iopub.status.busy": "2023-02-12T05:01:24.331751Z",
     "iopub.status.idle": "2023-02-12T05:01:24.338516Z",
     "shell.execute_reply": "2023-02-12T05:01:24.337195Z"
    },
    "papermill": {
     "duration": 0.039199,
     "end_time": "2023-02-12T05:01:24.341546",
     "exception": false,
     "start_time": "2023-02-12T05:01:24.302347",
     "status": "completed"
    },
    "tags": []
   },
   "outputs": [],
   "source": [
    "# Using Column_transformation for categorical Features (Ready_to_move and location)\n",
    "col_trans = make_column_transformer((OneHotEncoder(sparse=False),['location']),remainder='passthrough')"
   ]
  },
  {
   "cell_type": "code",
   "execution_count": 62,
   "id": "d41a6829",
   "metadata": {
    "execution": {
     "iopub.execute_input": "2023-02-12T05:01:24.396786Z",
     "iopub.status.busy": "2023-02-12T05:01:24.395665Z",
     "iopub.status.idle": "2023-02-12T05:01:24.402695Z",
     "shell.execute_reply": "2023-02-12T05:01:24.401320Z"
    },
    "papermill": {
     "duration": 0.037939,
     "end_time": "2023-02-12T05:01:24.405753",
     "exception": false,
     "start_time": "2023-02-12T05:01:24.367814",
     "status": "completed"
    },
    "tags": []
   },
   "outputs": [],
   "source": [
    "scaler = StandardScaler()"
   ]
  },
  {
   "cell_type": "code",
   "execution_count": 63,
   "id": "4ef7fa0f",
   "metadata": {
    "execution": {
     "iopub.execute_input": "2023-02-12T05:01:24.464527Z",
     "iopub.status.busy": "2023-02-12T05:01:24.463962Z",
     "iopub.status.idle": "2023-02-12T05:01:24.470408Z",
     "shell.execute_reply": "2023-02-12T05:01:24.468605Z"
    },
    "papermill": {
     "duration": 0.03943,
     "end_time": "2023-02-12T05:01:24.473457",
     "exception": false,
     "start_time": "2023-02-12T05:01:24.434027",
     "status": "completed"
    },
    "tags": []
   },
   "outputs": [],
   "source": [
    "lr = LinearRegression(normalize=True)"
   ]
  },
  {
   "cell_type": "code",
   "execution_count": 64,
   "id": "5e91bc88",
   "metadata": {
    "execution": {
     "iopub.execute_input": "2023-02-12T05:01:24.533327Z",
     "iopub.status.busy": "2023-02-12T05:01:24.532812Z",
     "iopub.status.idle": "2023-02-12T05:01:24.539532Z",
     "shell.execute_reply": "2023-02-12T05:01:24.537952Z"
    },
    "papermill": {
     "duration": 0.040116,
     "end_time": "2023-02-12T05:01:24.542414",
     "exception": false,
     "start_time": "2023-02-12T05:01:24.502298",
     "status": "completed"
    },
    "tags": []
   },
   "outputs": [],
   "source": [
    "pipe = make_pipeline(col_trans,scaler,lr)"
   ]
  },
  {
   "cell_type": "code",
   "execution_count": 65,
   "id": "4a2d365a",
   "metadata": {
    "execution": {
     "iopub.execute_input": "2023-02-12T05:01:24.598347Z",
     "iopub.status.busy": "2023-02-12T05:01:24.597820Z",
     "iopub.status.idle": "2023-02-12T05:01:24.833003Z",
     "shell.execute_reply": "2023-02-12T05:01:24.831089Z"
    },
    "papermill": {
     "duration": 0.278996,
     "end_time": "2023-02-12T05:01:24.847604",
     "exception": false,
     "start_time": "2023-02-12T05:01:24.568608",
     "status": "completed"
    },
    "tags": []
   },
   "outputs": [
    {
     "data": {
      "text/plain": [
       "Pipeline(steps=[('columntransformer',\n",
       "                 ColumnTransformer(remainder='passthrough',\n",
       "                                   transformers=[('onehotencoder',\n",
       "                                                  OneHotEncoder(sparse=False),\n",
       "                                                  ['location'])])),\n",
       "                ('standardscaler', StandardScaler()),\n",
       "                ('linearregression', LinearRegression(normalize=True))])"
      ]
     },
     "execution_count": 65,
     "metadata": {},
     "output_type": "execute_result"
    }
   ],
   "source": [
    "pipe.fit(X_train,y_train)"
   ]
  },
  {
   "cell_type": "code",
   "execution_count": 66,
   "id": "9910d254",
   "metadata": {
    "execution": {
     "iopub.execute_input": "2023-02-12T05:01:24.957946Z",
     "iopub.status.busy": "2023-02-12T05:01:24.956466Z",
     "iopub.status.idle": "2023-02-12T05:01:24.974788Z",
     "shell.execute_reply": "2023-02-12T05:01:24.972886Z"
    },
    "papermill": {
     "duration": 0.053983,
     "end_time": "2023-02-12T05:01:24.980578",
     "exception": false,
     "start_time": "2023-02-12T05:01:24.926595",
     "status": "completed"
    },
    "tags": []
   },
   "outputs": [],
   "source": [
    "y_pred_lr = pipe.predict(X_test)"
   ]
  },
  {
   "cell_type": "code",
   "execution_count": 67,
   "id": "873117ab",
   "metadata": {
    "execution": {
     "iopub.execute_input": "2023-02-12T05:01:25.106559Z",
     "iopub.status.busy": "2023-02-12T05:01:25.106003Z",
     "iopub.status.idle": "2023-02-12T05:01:25.116019Z",
     "shell.execute_reply": "2023-02-12T05:01:25.114674Z"
    },
    "papermill": {
     "duration": 0.065989,
     "end_time": "2023-02-12T05:01:25.118559",
     "exception": false,
     "start_time": "2023-02-12T05:01:25.052570",
     "status": "completed"
    },
    "tags": []
   },
   "outputs": [
    {
     "data": {
      "text/plain": [
       "0.797696851023298"
      ]
     },
     "execution_count": 67,
     "metadata": {},
     "output_type": "execute_result"
    }
   ],
   "source": [
    "r2_score(y_test,y_pred_lr)"
   ]
  },
  {
   "cell_type": "markdown",
   "id": "af6d2b5f",
   "metadata": {
    "papermill": {
     "duration": 0.025629,
     "end_time": "2023-02-12T05:01:25.171002",
     "exception": false,
     "start_time": "2023-02-12T05:01:25.145373",
     "status": "completed"
    },
    "tags": []
   },
   "source": [
    "### Applying Lasso regression"
   ]
  },
  {
   "cell_type": "code",
   "execution_count": 68,
   "id": "840aad66",
   "metadata": {
    "execution": {
     "iopub.execute_input": "2023-02-12T05:01:25.226882Z",
     "iopub.status.busy": "2023-02-12T05:01:25.226310Z",
     "iopub.status.idle": "2023-02-12T05:01:25.233278Z",
     "shell.execute_reply": "2023-02-12T05:01:25.231836Z"
    },
    "papermill": {
     "duration": 0.037918,
     "end_time": "2023-02-12T05:01:25.236221",
     "exception": false,
     "start_time": "2023-02-12T05:01:25.198303",
     "status": "completed"
    },
    "tags": []
   },
   "outputs": [],
   "source": [
    "lasso=Lasso()"
   ]
  },
  {
   "cell_type": "code",
   "execution_count": 69,
   "id": "ced4e5e9",
   "metadata": {
    "execution": {
     "iopub.execute_input": "2023-02-12T05:01:25.291432Z",
     "iopub.status.busy": "2023-02-12T05:01:25.290907Z",
     "iopub.status.idle": "2023-02-12T05:01:25.297546Z",
     "shell.execute_reply": "2023-02-12T05:01:25.295881Z"
    },
    "papermill": {
     "duration": 0.037047,
     "end_time": "2023-02-12T05:01:25.300166",
     "exception": false,
     "start_time": "2023-02-12T05:01:25.263119",
     "status": "completed"
    },
    "tags": []
   },
   "outputs": [],
   "source": [
    "pipe = make_pipeline(col_trans,scaler,lasso)"
   ]
  },
  {
   "cell_type": "code",
   "execution_count": 70,
   "id": "6e5f13a5",
   "metadata": {
    "execution": {
     "iopub.execute_input": "2023-02-12T05:01:25.356007Z",
     "iopub.status.busy": "2023-02-12T05:01:25.355296Z",
     "iopub.status.idle": "2023-02-12T05:01:25.480244Z",
     "shell.execute_reply": "2023-02-12T05:01:25.478279Z"
    },
    "papermill": {
     "duration": 0.158943,
     "end_time": "2023-02-12T05:01:25.486151",
     "exception": false,
     "start_time": "2023-02-12T05:01:25.327208",
     "status": "completed"
    },
    "tags": []
   },
   "outputs": [
    {
     "data": {
      "text/plain": [
       "Pipeline(steps=[('columntransformer',\n",
       "                 ColumnTransformer(remainder='passthrough',\n",
       "                                   transformers=[('onehotencoder',\n",
       "                                                  OneHotEncoder(sparse=False),\n",
       "                                                  ['location'])])),\n",
       "                ('standardscaler', StandardScaler()), ('lasso', Lasso())])"
      ]
     },
     "execution_count": 70,
     "metadata": {},
     "output_type": "execute_result"
    }
   ],
   "source": [
    "pipe.fit(X_train,y_train)"
   ]
  },
  {
   "cell_type": "code",
   "execution_count": 71,
   "id": "58ae07d9",
   "metadata": {
    "execution": {
     "iopub.execute_input": "2023-02-12T05:01:25.601120Z",
     "iopub.status.busy": "2023-02-12T05:01:25.600591Z",
     "iopub.status.idle": "2023-02-12T05:01:25.631806Z",
     "shell.execute_reply": "2023-02-12T05:01:25.629864Z"
    },
    "papermill": {
     "duration": 0.0761,
     "end_time": "2023-02-12T05:01:25.636916",
     "exception": false,
     "start_time": "2023-02-12T05:01:25.560816",
     "status": "completed"
    },
    "tags": []
   },
   "outputs": [],
   "source": [
    "y_pred_lasso = pipe.predict(X_test)"
   ]
  },
  {
   "cell_type": "code",
   "execution_count": 72,
   "id": "d5e379df",
   "metadata": {
    "execution": {
     "iopub.execute_input": "2023-02-12T05:01:25.764958Z",
     "iopub.status.busy": "2023-02-12T05:01:25.763085Z",
     "iopub.status.idle": "2023-02-12T05:01:25.773992Z",
     "shell.execute_reply": "2023-02-12T05:01:25.772764Z"
    },
    "papermill": {
     "duration": 0.068067,
     "end_time": "2023-02-12T05:01:25.776646",
     "exception": false,
     "start_time": "2023-02-12T05:01:25.708579",
     "status": "completed"
    },
    "tags": []
   },
   "outputs": [
    {
     "data": {
      "text/plain": [
       "0.7943623474251222"
      ]
     },
     "execution_count": 72,
     "metadata": {},
     "output_type": "execute_result"
    }
   ],
   "source": [
    "r2_score(y_test,y_pred_lasso)"
   ]
  },
  {
   "cell_type": "markdown",
   "id": "2e10bfa1",
   "metadata": {
    "papermill": {
     "duration": 0.028916,
     "end_time": "2023-02-12T05:01:25.833086",
     "exception": false,
     "start_time": "2023-02-12T05:01:25.804170",
     "status": "completed"
    },
    "tags": []
   },
   "source": [
    "### Applying Ridge regression"
   ]
  },
  {
   "cell_type": "code",
   "execution_count": 73,
   "id": "0d6f2162",
   "metadata": {
    "execution": {
     "iopub.execute_input": "2023-02-12T05:01:25.890242Z",
     "iopub.status.busy": "2023-02-12T05:01:25.889530Z",
     "iopub.status.idle": "2023-02-12T05:01:25.895362Z",
     "shell.execute_reply": "2023-02-12T05:01:25.893950Z"
    },
    "papermill": {
     "duration": 0.038291,
     "end_time": "2023-02-12T05:01:25.898566",
     "exception": false,
     "start_time": "2023-02-12T05:01:25.860275",
     "status": "completed"
    },
    "tags": []
   },
   "outputs": [],
   "source": [
    "ridge=Ridge()"
   ]
  },
  {
   "cell_type": "code",
   "execution_count": 74,
   "id": "9ffbdfd8",
   "metadata": {
    "execution": {
     "iopub.execute_input": "2023-02-12T05:01:25.954713Z",
     "iopub.status.busy": "2023-02-12T05:01:25.954166Z",
     "iopub.status.idle": "2023-02-12T05:01:25.960099Z",
     "shell.execute_reply": "2023-02-12T05:01:25.958530Z"
    },
    "papermill": {
     "duration": 0.037243,
     "end_time": "2023-02-12T05:01:25.962773",
     "exception": false,
     "start_time": "2023-02-12T05:01:25.925530",
     "status": "completed"
    },
    "tags": []
   },
   "outputs": [],
   "source": [
    "pipe = make_pipeline(col_trans,scaler,ridge)"
   ]
  },
  {
   "cell_type": "code",
   "execution_count": 75,
   "id": "722223c2",
   "metadata": {
    "execution": {
     "iopub.execute_input": "2023-02-12T05:01:26.020574Z",
     "iopub.status.busy": "2023-02-12T05:01:26.019676Z",
     "iopub.status.idle": "2023-02-12T05:01:26.126127Z",
     "shell.execute_reply": "2023-02-12T05:01:26.124353Z"
    },
    "papermill": {
     "duration": 0.141991,
     "end_time": "2023-02-12T05:01:26.131436",
     "exception": false,
     "start_time": "2023-02-12T05:01:25.989445",
     "status": "completed"
    },
    "tags": []
   },
   "outputs": [
    {
     "data": {
      "text/plain": [
       "Pipeline(steps=[('columntransformer',\n",
       "                 ColumnTransformer(remainder='passthrough',\n",
       "                                   transformers=[('onehotencoder',\n",
       "                                                  OneHotEncoder(sparse=False),\n",
       "                                                  ['location'])])),\n",
       "                ('standardscaler', StandardScaler()), ('ridge', Ridge())])"
      ]
     },
     "execution_count": 75,
     "metadata": {},
     "output_type": "execute_result"
    }
   ],
   "source": [
    "pipe.fit(X_train,y_train)"
   ]
  },
  {
   "cell_type": "code",
   "execution_count": 76,
   "id": "b2e39839",
   "metadata": {
    "execution": {
     "iopub.execute_input": "2023-02-12T05:01:26.262999Z",
     "iopub.status.busy": "2023-02-12T05:01:26.262488Z",
     "iopub.status.idle": "2023-02-12T05:01:26.287648Z",
     "shell.execute_reply": "2023-02-12T05:01:26.285613Z"
    },
    "papermill": {
     "duration": 0.059151,
     "end_time": "2023-02-12T05:01:26.292832",
     "exception": false,
     "start_time": "2023-02-12T05:01:26.233681",
     "status": "completed"
    },
    "tags": []
   },
   "outputs": [],
   "source": [
    "y_pred_ridge = pipe.predict(X_test)"
   ]
  },
  {
   "cell_type": "code",
   "execution_count": 77,
   "id": "2baeca33",
   "metadata": {
    "execution": {
     "iopub.execute_input": "2023-02-12T05:01:26.419902Z",
     "iopub.status.busy": "2023-02-12T05:01:26.419383Z",
     "iopub.status.idle": "2023-02-12T05:01:26.429719Z",
     "shell.execute_reply": "2023-02-12T05:01:26.428404Z"
    },
    "papermill": {
     "duration": 0.06814,
     "end_time": "2023-02-12T05:01:26.432417",
     "exception": false,
     "start_time": "2023-02-12T05:01:26.364277",
     "status": "completed"
    },
    "tags": []
   },
   "outputs": [
    {
     "data": {
      "text/plain": [
       "0.7977211311875495"
      ]
     },
     "execution_count": 77,
     "metadata": {},
     "output_type": "execute_result"
    }
   ],
   "source": [
    "r2_score(y_test,y_pred_ridge)"
   ]
  },
  {
   "cell_type": "code",
   "execution_count": null,
   "id": "6b8bfb59",
   "metadata": {},
   "outputs": [],
   "source": [
    "from sklearn.tree import DecisionTreeRegressor\n",
    "from sklearn.model_selection import GridSearchCV\n",
    "from sklearn.linear_model import Lasso\n",
    "def bestmodel(x,y):\n",
    "\n",
    "    algos = {\n",
    "        'linear_regression' : {\n",
    "            'model': LinearRegression(),\n",
    "            'params': {\n",
    "                'normalize': [True, False]\n",
    "            }\n",
    "        },\n",
    "        'lasso': {\n",
    "            'model': Lasso(),\n",
    "            'params': {\n",
    "                'alpha': [1,2],\n",
    "                'selection': ['random', 'cyclic']\n",
    "            }\n",
    "        },\n",
    "        'decision_tree': {\n",
    "            'model': DecisionTreeRegressor(),\n",
    "            'params': {\n",
    "                'criterion' : ['mse','friedman_mse'],\n",
    "                'splitter': ['best','random']\n",
    "            }\n",
    "        }\n",
    "    }\n",
    "    scores = []\n",
    "    for name, config in algos.items():\n",
    "        gs =  GridSearchCV(config['model'], config['params'], cv=ss, return_train_score=False)\n",
    "        gs.fit(x,y)\n",
    "        scores.append({\n",
    "            'model': name,\n",
    "            'best_score': gs.best_score_,\n",
    "            'best_params': gs.best_params_\n",
    "        })\n",
    "\n",
    "    return pd.DataFrame(scores,columns=['model','best_score','best_params'])"
   ]
  },
  {
   "cell_type": "code",
   "execution_count": 78,
   "id": "d5ec1719",
   "metadata": {
    "execution": {
     "iopub.execute_input": "2023-02-12T05:01:26.491834Z",
     "iopub.status.busy": "2023-02-12T05:01:26.491018Z",
     "iopub.status.idle": "2023-02-12T05:01:26.500385Z",
     "shell.execute_reply": "2023-02-12T05:01:26.499103Z"
    },
    "papermill": {
     "duration": 0.043744,
     "end_time": "2023-02-12T05:01:26.504029",
     "exception": false,
     "start_time": "2023-02-12T05:01:26.460285",
     "status": "completed"
    },
    "tags": []
   },
   "outputs": [
    {
     "name": "stdout",
     "output_type": "stream",
     "text": [
      "Linear Regression 0.797696851023298\n",
      "Lasso 0.7943623474251222\n",
      "Ridge 0.7977211311875495\n"
     ]
    }
   ],
   "source": [
    "print(\"Linear Regression\",r2_score(y_test,y_pred_lr))\n",
    "print(\"Lasso\",r2_score(y_test,y_pred_lasso))\n",
    "print(\"Ridge\",r2_score(y_test,y_pred_ridge))"
   ]
  },
  {
   "cell_type": "code",
   "execution_count": 79,
   "id": "4f11fc06",
   "metadata": {
    "execution": {
     "iopub.execute_input": "2023-02-12T05:01:26.561218Z",
     "iopub.status.busy": "2023-02-12T05:01:26.560720Z",
     "iopub.status.idle": "2023-02-12T05:01:26.577563Z",
     "shell.execute_reply": "2023-02-12T05:01:26.576179Z"
    },
    "papermill": {
     "duration": 0.049316,
     "end_time": "2023-02-12T05:01:26.580610",
     "exception": false,
     "start_time": "2023-02-12T05:01:26.531294",
     "status": "completed"
    },
    "tags": []
   },
   "outputs": [
    {
     "name": "stdout",
     "output_type": "stream",
     "text": [
      "<class 'pandas.core.frame.DataFrame'>\n",
      "Int64Index: 7223 entries, 0 to 11177\n",
      "Data columns (total 5 columns):\n",
      " #   Column      Non-Null Count  Dtype  \n",
      "---  ------      --------------  -----  \n",
      " 0   location    7223 non-null   object \n",
      " 1   total_sqft  7223 non-null   float64\n",
      " 2   bath        7223 non-null   float64\n",
      " 3   price       7223 non-null   float64\n",
      " 4   bhk         7223 non-null   float64\n",
      "dtypes: float64(4), object(1)\n",
      "memory usage: 338.6+ KB\n"
     ]
    }
   ],
   "source": [
    "df.info()"
   ]
  },
  {
   "cell_type": "markdown",
   "id": "270a0e97",
   "metadata": {
    "papermill": {
     "duration": 0.027137,
     "end_time": "2023-02-12T05:01:26.634711",
     "exception": false,
     "start_time": "2023-02-12T05:01:26.607574",
     "status": "completed"
    },
    "tags": []
   },
   "source": [
    "### Convert to Pickle file for model deployment"
   ]
  },
  {
   "cell_type": "code",
   "execution_count": 80,
   "id": "7900484d",
   "metadata": {
    "execution": {
     "iopub.execute_input": "2023-02-12T05:01:26.692843Z",
     "iopub.status.busy": "2023-02-12T05:01:26.692303Z",
     "iopub.status.idle": "2023-02-12T05:01:26.697924Z",
     "shell.execute_reply": "2023-02-12T05:01:26.696587Z"
    },
    "papermill": {
     "duration": 0.037854,
     "end_time": "2023-02-12T05:01:26.700899",
     "exception": false,
     "start_time": "2023-02-12T05:01:26.663045",
     "status": "completed"
    },
    "tags": []
   },
   "outputs": [],
   "source": [
    "import pickle"
   ]
  },
  {
   "cell_type": "code",
   "execution_count": 81,
   "id": "2a782788",
   "metadata": {
    "execution": {
     "iopub.execute_input": "2023-02-12T05:01:26.762962Z",
     "iopub.status.busy": "2023-02-12T05:01:26.761552Z",
     "iopub.status.idle": "2023-02-12T05:01:26.768477Z",
     "shell.execute_reply": "2023-02-12T05:01:26.767333Z"
    },
    "papermill": {
     "duration": 0.041764,
     "end_time": "2023-02-12T05:01:26.771366",
     "exception": false,
     "start_time": "2023-02-12T05:01:26.729602",
     "status": "completed"
    },
    "tags": []
   },
   "outputs": [],
   "source": [
    "pickle.dump(pipe,open('RidgeModel_4_1.pkl','wb'))"
   ]
  }
 ],
 "metadata": {
  "kernelspec": {
   "display_name": "Python 3",
   "language": "python",
   "name": "python3"
  },
  "language_info": {
   "codemirror_mode": {
    "name": "ipython",
    "version": 3
   },
   "file_extension": ".py",
   "mimetype": "text/x-python",
   "name": "python",
   "nbconvert_exporter": "python",
   "pygments_lexer": "ipython3",
   "version": "3.10.7"
  },
  "papermill": {
   "default_parameters": {},
   "duration": 61.848659,
   "end_time": "2023-02-12T05:01:27.927579",
   "environment_variables": {},
   "exception": null,
   "input_path": "__notebook__.ipynb",
   "output_path": "__notebook__.ipynb",
   "parameters": {},
   "start_time": "2023-02-12T05:00:26.078920",
   "version": "2.3.4"
  },
  "vscode": {
   "interpreter": {
    "hash": "0d72b21489300652f2337cd7f80c57cc00ce6bbc92cf98d285c178d0a8ced433"
   }
  }
 },
 "nbformat": 4,
 "nbformat_minor": 5
}
